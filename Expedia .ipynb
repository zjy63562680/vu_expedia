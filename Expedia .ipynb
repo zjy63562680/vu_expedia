{
 "cells": [
  {
   "cell_type": "code",
   "execution_count": 1,
   "metadata": {
    "collapsed": false
   },
   "outputs": [],
   "source": [
    "# data analysis and wrangling\n",
    "import pandas as pd\n",
    "import numpy as np\n",
    "import random as rnd\n",
    "from collections import Counter\n",
    "\n",
    "# visualization\n",
    "import seaborn as sns\n",
    "import matplotlib.pyplot as plt\n",
    "%matplotlib inline"
   ]
  },
  {
   "cell_type": "code",
   "execution_count": 86,
   "metadata": {
    "collapsed": false
   },
   "outputs": [
    {
     "ename": "TypeError",
     "evalue": "an integer is required for the axis",
     "output_type": "error",
     "traceback": [
      "\u001b[0;31m---------------------------------------------------------------------------\u001b[0m",
      "\u001b[0;31mTypeError\u001b[0m                                 Traceback (most recent call last)",
      "\u001b[0;32m<ipython-input-86-b547d05f6b5d>\u001b[0m in \u001b[0;36m<module>\u001b[0;34m()\u001b[0m\n\u001b[1;32m      1\u001b[0m \u001b[0mtrain_df\u001b[0m \u001b[1;33m=\u001b[0m \u001b[0mpd\u001b[0m\u001b[1;33m.\u001b[0m\u001b[0mread_csv\u001b[0m\u001b[1;33m(\u001b[0m\u001b[1;34m'training_set_VU_DM_2014.csv'\u001b[0m\u001b[1;33m)\u001b[0m\u001b[1;33m\u001b[0m\u001b[0m\n\u001b[1;32m      2\u001b[0m \u001b[0mtest_df\u001b[0m \u001b[1;33m=\u001b[0m \u001b[0mpd\u001b[0m\u001b[1;33m.\u001b[0m\u001b[0mread_csv\u001b[0m\u001b[1;33m(\u001b[0m\u001b[1;34m'test_set_VU_DM_2014.csv'\u001b[0m\u001b[1;33m)\u001b[0m\u001b[1;33m\u001b[0m\u001b[0m\n\u001b[0;32m----> 3\u001b[0;31m \u001b[0mcombine\u001b[0m \u001b[1;33m=\u001b[0m \u001b[0mnp\u001b[0m\u001b[1;33m.\u001b[0m\u001b[0mconcatenate\u001b[0m\u001b[1;33m(\u001b[0m\u001b[0mtrain_df\u001b[0m\u001b[1;33m,\u001b[0m\u001b[0mtest_df\u001b[0m\u001b[1;33m)\u001b[0m\u001b[1;33m\u001b[0m\u001b[0m\n\u001b[0m",
      "\u001b[0;31mTypeError\u001b[0m: an integer is required for the axis"
     ]
    }
   ],
   "source": [
    "train_df = pd.read_csv('training_set_VU_DM_2014.csv')\n",
    "test_df = pd.read_csv('test_set_VU_DM_2014.csv')\n",
    "combine=（train_df,test_df)"
   ]
  },
  {
   "cell_type": "code",
   "execution_count": 2,
   "metadata": {
    "collapsed": false
   },
   "outputs": [],
   "source": [
    "train_s = pd.read_csv('sample.csv')"
   ]
  },
  {
   "cell_type": "code",
   "execution_count": 9,
   "metadata": {
    "collapsed": false
   },
   "outputs": [
    {
     "name": "stdout",
     "output_type": "stream",
     "text": [
      "['srch_id' 'date_time' 'site_id' 'visitor_location_country_id'\n",
      " 'visitor_hist_starrating' 'visitor_hist_adr_usd' 'prop_country_id'\n",
      " 'prop_id' 'prop_starrating' 'prop_review_score' 'prop_brand_bool'\n",
      " 'prop_location_score1' 'prop_location_score2' 'prop_log_historical_price'\n",
      " 'position' 'price_usd' 'promotion_flag' 'srch_destination_id'\n",
      " 'srch_length_of_stay' 'srch_booking_window' 'srch_adults_count'\n",
      " 'srch_children_count' 'srch_room_count' 'srch_saturday_night_bool'\n",
      " 'srch_query_affinity_score' 'orig_destination_distance' 'random_bool'\n",
      " 'comp1_rate' 'comp1_inv' 'comp1_rate_percent_diff' 'comp2_rate'\n",
      " 'comp2_inv' 'comp2_rate_percent_diff' 'comp3_rate' 'comp3_inv'\n",
      " 'comp3_rate_percent_diff' 'comp4_rate' 'comp4_inv'\n",
      " 'comp4_rate_percent_diff' 'comp5_rate' 'comp5_inv'\n",
      " 'comp5_rate_percent_diff' 'comp6_rate' 'comp6_inv'\n",
      " 'comp6_rate_percent_diff' 'comp7_rate' 'comp7_inv'\n",
      " 'comp7_rate_percent_diff' 'comp8_rate' 'comp8_inv'\n",
      " 'comp8_rate_percent_diff' 'click_bool' 'gross_bookings_usd' 'booking_bool']\n"
     ]
    }
   ],
   "source": [
    "print(train_df.columns.values)"
   ]
  },
  {
   "cell_type": "code",
   "execution_count": 10,
   "metadata": {
    "collapsed": false
   },
   "outputs": [
    {
     "data": {
      "text/html": [
       "<div>\n",
       "<table border=\"1\" class=\"dataframe\">\n",
       "  <thead>\n",
       "    <tr style=\"text-align: right;\">\n",
       "      <th></th>\n",
       "      <th>srch_id</th>\n",
       "      <th>date_time</th>\n",
       "      <th>site_id</th>\n",
       "      <th>visitor_location_country_id</th>\n",
       "      <th>visitor_hist_starrating</th>\n",
       "      <th>visitor_hist_adr_usd</th>\n",
       "      <th>prop_country_id</th>\n",
       "      <th>prop_id</th>\n",
       "      <th>prop_starrating</th>\n",
       "      <th>prop_review_score</th>\n",
       "      <th>...</th>\n",
       "      <th>comp6_rate_percent_diff</th>\n",
       "      <th>comp7_rate</th>\n",
       "      <th>comp7_inv</th>\n",
       "      <th>comp7_rate_percent_diff</th>\n",
       "      <th>comp8_rate</th>\n",
       "      <th>comp8_inv</th>\n",
       "      <th>comp8_rate_percent_diff</th>\n",
       "      <th>click_bool</th>\n",
       "      <th>gross_bookings_usd</th>\n",
       "      <th>booking_bool</th>\n",
       "    </tr>\n",
       "  </thead>\n",
       "  <tbody>\n",
       "    <tr>\n",
       "      <th>0</th>\n",
       "      <td>1</td>\n",
       "      <td>2013-04-04 08:32:15</td>\n",
       "      <td>12</td>\n",
       "      <td>187</td>\n",
       "      <td>NaN</td>\n",
       "      <td>NaN</td>\n",
       "      <td>219</td>\n",
       "      <td>893</td>\n",
       "      <td>3</td>\n",
       "      <td>3.5</td>\n",
       "      <td>...</td>\n",
       "      <td>NaN</td>\n",
       "      <td>NaN</td>\n",
       "      <td>NaN</td>\n",
       "      <td>NaN</td>\n",
       "      <td>0.0</td>\n",
       "      <td>0.0</td>\n",
       "      <td>NaN</td>\n",
       "      <td>0</td>\n",
       "      <td>NaN</td>\n",
       "      <td>0</td>\n",
       "    </tr>\n",
       "    <tr>\n",
       "      <th>1</th>\n",
       "      <td>1</td>\n",
       "      <td>2013-04-04 08:32:15</td>\n",
       "      <td>12</td>\n",
       "      <td>187</td>\n",
       "      <td>NaN</td>\n",
       "      <td>NaN</td>\n",
       "      <td>219</td>\n",
       "      <td>10404</td>\n",
       "      <td>4</td>\n",
       "      <td>4.0</td>\n",
       "      <td>...</td>\n",
       "      <td>NaN</td>\n",
       "      <td>NaN</td>\n",
       "      <td>NaN</td>\n",
       "      <td>NaN</td>\n",
       "      <td>0.0</td>\n",
       "      <td>0.0</td>\n",
       "      <td>NaN</td>\n",
       "      <td>0</td>\n",
       "      <td>NaN</td>\n",
       "      <td>0</td>\n",
       "    </tr>\n",
       "    <tr>\n",
       "      <th>2</th>\n",
       "      <td>1</td>\n",
       "      <td>2013-04-04 08:32:15</td>\n",
       "      <td>12</td>\n",
       "      <td>187</td>\n",
       "      <td>NaN</td>\n",
       "      <td>NaN</td>\n",
       "      <td>219</td>\n",
       "      <td>21315</td>\n",
       "      <td>3</td>\n",
       "      <td>4.5</td>\n",
       "      <td>...</td>\n",
       "      <td>NaN</td>\n",
       "      <td>NaN</td>\n",
       "      <td>NaN</td>\n",
       "      <td>NaN</td>\n",
       "      <td>0.0</td>\n",
       "      <td>0.0</td>\n",
       "      <td>NaN</td>\n",
       "      <td>0</td>\n",
       "      <td>NaN</td>\n",
       "      <td>0</td>\n",
       "    </tr>\n",
       "    <tr>\n",
       "      <th>3</th>\n",
       "      <td>1</td>\n",
       "      <td>2013-04-04 08:32:15</td>\n",
       "      <td>12</td>\n",
       "      <td>187</td>\n",
       "      <td>NaN</td>\n",
       "      <td>NaN</td>\n",
       "      <td>219</td>\n",
       "      <td>27348</td>\n",
       "      <td>2</td>\n",
       "      <td>4.0</td>\n",
       "      <td>...</td>\n",
       "      <td>NaN</td>\n",
       "      <td>NaN</td>\n",
       "      <td>NaN</td>\n",
       "      <td>NaN</td>\n",
       "      <td>-1.0</td>\n",
       "      <td>0.0</td>\n",
       "      <td>5.0</td>\n",
       "      <td>0</td>\n",
       "      <td>NaN</td>\n",
       "      <td>0</td>\n",
       "    </tr>\n",
       "    <tr>\n",
       "      <th>4</th>\n",
       "      <td>1</td>\n",
       "      <td>2013-04-04 08:32:15</td>\n",
       "      <td>12</td>\n",
       "      <td>187</td>\n",
       "      <td>NaN</td>\n",
       "      <td>NaN</td>\n",
       "      <td>219</td>\n",
       "      <td>29604</td>\n",
       "      <td>4</td>\n",
       "      <td>3.5</td>\n",
       "      <td>...</td>\n",
       "      <td>NaN</td>\n",
       "      <td>NaN</td>\n",
       "      <td>NaN</td>\n",
       "      <td>NaN</td>\n",
       "      <td>0.0</td>\n",
       "      <td>0.0</td>\n",
       "      <td>NaN</td>\n",
       "      <td>0</td>\n",
       "      <td>NaN</td>\n",
       "      <td>0</td>\n",
       "    </tr>\n",
       "  </tbody>\n",
       "</table>\n",
       "<p>5 rows × 54 columns</p>\n",
       "</div>"
      ],
      "text/plain": [
       "   srch_id            date_time  site_id  visitor_location_country_id  \\\n",
       "0        1  2013-04-04 08:32:15       12                          187   \n",
       "1        1  2013-04-04 08:32:15       12                          187   \n",
       "2        1  2013-04-04 08:32:15       12                          187   \n",
       "3        1  2013-04-04 08:32:15       12                          187   \n",
       "4        1  2013-04-04 08:32:15       12                          187   \n",
       "\n",
       "   visitor_hist_starrating  visitor_hist_adr_usd  prop_country_id  prop_id  \\\n",
       "0                      NaN                   NaN              219      893   \n",
       "1                      NaN                   NaN              219    10404   \n",
       "2                      NaN                   NaN              219    21315   \n",
       "3                      NaN                   NaN              219    27348   \n",
       "4                      NaN                   NaN              219    29604   \n",
       "\n",
       "   prop_starrating  prop_review_score      ...       comp6_rate_percent_diff  \\\n",
       "0                3                3.5      ...                           NaN   \n",
       "1                4                4.0      ...                           NaN   \n",
       "2                3                4.5      ...                           NaN   \n",
       "3                2                4.0      ...                           NaN   \n",
       "4                4                3.5      ...                           NaN   \n",
       "\n",
       "   comp7_rate  comp7_inv  comp7_rate_percent_diff  comp8_rate  comp8_inv  \\\n",
       "0         NaN        NaN                      NaN         0.0        0.0   \n",
       "1         NaN        NaN                      NaN         0.0        0.0   \n",
       "2         NaN        NaN                      NaN         0.0        0.0   \n",
       "3         NaN        NaN                      NaN        -1.0        0.0   \n",
       "4         NaN        NaN                      NaN         0.0        0.0   \n",
       "\n",
       "   comp8_rate_percent_diff  click_bool  gross_bookings_usd  booking_bool  \n",
       "0                      NaN           0                 NaN             0  \n",
       "1                      NaN           0                 NaN             0  \n",
       "2                      NaN           0                 NaN             0  \n",
       "3                      5.0           0                 NaN             0  \n",
       "4                      NaN           0                 NaN             0  \n",
       "\n",
       "[5 rows x 54 columns]"
      ]
     },
     "execution_count": 10,
     "metadata": {},
     "output_type": "execute_result"
    }
   ],
   "source": [
    "train_df.head()"
   ]
  },
  {
   "cell_type": "code",
   "execution_count": 12,
   "metadata": {
    "collapsed": false
   },
   "outputs": [
    {
     "name": "stdout",
     "output_type": "stream",
     "text": [
      "<class 'pandas.core.frame.DataFrame'>\n",
      "RangeIndex: 4958347 entries, 0 to 4958346\n",
      "Data columns (total 54 columns):\n",
      "srch_id                        int64\n",
      "date_time                      object\n",
      "site_id                        int64\n",
      "visitor_location_country_id    int64\n",
      "visitor_hist_starrating        float64\n",
      "visitor_hist_adr_usd           float64\n",
      "prop_country_id                int64\n",
      "prop_id                        int64\n",
      "prop_starrating                int64\n",
      "prop_review_score              float64\n",
      "prop_brand_bool                int64\n",
      "prop_location_score1           float64\n",
      "prop_location_score2           float64\n",
      "prop_log_historical_price      float64\n",
      "position                       int64\n",
      "price_usd                      float64\n",
      "promotion_flag                 int64\n",
      "srch_destination_id            int64\n",
      "srch_length_of_stay            int64\n",
      "srch_booking_window            int64\n",
      "srch_adults_count              int64\n",
      "srch_children_count            int64\n",
      "srch_room_count                int64\n",
      "srch_saturday_night_bool       int64\n",
      "srch_query_affinity_score      float64\n",
      "orig_destination_distance      float64\n",
      "random_bool                    int64\n",
      "comp1_rate                     float64\n",
      "comp1_inv                      float64\n",
      "comp1_rate_percent_diff        float64\n",
      "comp2_rate                     float64\n",
      "comp2_inv                      float64\n",
      "comp2_rate_percent_diff        float64\n",
      "comp3_rate                     float64\n",
      "comp3_inv                      float64\n",
      "comp3_rate_percent_diff        float64\n",
      "comp4_rate                     float64\n",
      "comp4_inv                      float64\n",
      "comp4_rate_percent_diff        float64\n",
      "comp5_rate                     float64\n",
      "comp5_inv                      float64\n",
      "comp5_rate_percent_diff        float64\n",
      "comp6_rate                     float64\n",
      "comp6_inv                      float64\n",
      "comp6_rate_percent_diff        float64\n",
      "comp7_rate                     float64\n",
      "comp7_inv                      float64\n",
      "comp7_rate_percent_diff        float64\n",
      "comp8_rate                     float64\n",
      "comp8_inv                      float64\n",
      "comp8_rate_percent_diff        float64\n",
      "click_bool                     int64\n",
      "gross_bookings_usd             float64\n",
      "booking_bool                   int64\n",
      "dtypes: float64(34), int64(19), object(1)\n",
      "memory usage: 2.0+ GB\n",
      "----------------------------------------\n",
      "<class 'pandas.core.frame.DataFrame'>\n",
      "RangeIndex: 4959183 entries, 0 to 4959182\n",
      "Data columns (total 50 columns):\n",
      "srch_id                        int64\n",
      "date_time                      object\n",
      "site_id                        int64\n",
      "visitor_location_country_id    int64\n",
      "visitor_hist_starrating        float64\n",
      "visitor_hist_adr_usd           float64\n",
      "prop_country_id                int64\n",
      "prop_id                        int64\n",
      "prop_starrating                int64\n",
      "prop_review_score              float64\n",
      "prop_brand_bool                int64\n",
      "prop_location_score1           float64\n",
      "prop_location_score2           float64\n",
      "prop_log_historical_price      float64\n",
      "price_usd                      float64\n",
      "promotion_flag                 int64\n",
      "srch_destination_id            int64\n",
      "srch_length_of_stay            int64\n",
      "srch_booking_window            int64\n",
      "srch_adults_count              int64\n",
      "srch_children_count            int64\n",
      "srch_room_count                int64\n",
      "srch_saturday_night_bool       int64\n",
      "srch_query_affinity_score      float64\n",
      "orig_destination_distance      float64\n",
      "random_bool                    int64\n",
      "comp1_rate                     float64\n",
      "comp1_inv                      float64\n",
      "comp1_rate_percent_diff        float64\n",
      "comp2_rate                     float64\n",
      "comp2_inv                      float64\n",
      "comp2_rate_percent_diff        float64\n",
      "comp3_rate                     float64\n",
      "comp3_inv                      float64\n",
      "comp3_rate_percent_diff        float64\n",
      "comp4_rate                     float64\n",
      "comp4_inv                      float64\n",
      "comp4_rate_percent_diff        float64\n",
      "comp5_rate                     float64\n",
      "comp5_inv                      float64\n",
      "comp5_rate_percent_diff        float64\n",
      "comp6_rate                     float64\n",
      "comp6_inv                      float64\n",
      "comp6_rate_percent_diff        float64\n",
      "comp7_rate                     float64\n",
      "comp7_inv                      float64\n",
      "comp7_rate_percent_diff        float64\n",
      "comp8_rate                     float64\n",
      "comp8_inv                      float64\n",
      "comp8_rate_percent_diff        float64\n",
      "dtypes: float64(33), int64(16), object(1)\n",
      "memory usage: 1.8+ GB\n"
     ]
    }
   ],
   "source": [
    "train_df.info()\n",
    "print(\"-\"*40)\n",
    "test_df.info()"
   ]
  },
  {
   "cell_type": "code",
   "execution_count": 13,
   "metadata": {
    "collapsed": false
   },
   "outputs": [
    {
     "data": {
      "text/html": [
       "<div>\n",
       "<table border=\"1\" class=\"dataframe\">\n",
       "  <thead>\n",
       "    <tr style=\"text-align: right;\">\n",
       "      <th></th>\n",
       "      <th>srch_id</th>\n",
       "      <th>site_id</th>\n",
       "      <th>visitor_location_country_id</th>\n",
       "      <th>visitor_hist_starrating</th>\n",
       "      <th>visitor_hist_adr_usd</th>\n",
       "      <th>prop_country_id</th>\n",
       "      <th>prop_id</th>\n",
       "      <th>prop_starrating</th>\n",
       "      <th>prop_review_score</th>\n",
       "      <th>prop_brand_bool</th>\n",
       "      <th>...</th>\n",
       "      <th>comp6_rate_percent_diff</th>\n",
       "      <th>comp7_rate</th>\n",
       "      <th>comp7_inv</th>\n",
       "      <th>comp7_rate_percent_diff</th>\n",
       "      <th>comp8_rate</th>\n",
       "      <th>comp8_inv</th>\n",
       "      <th>comp8_rate_percent_diff</th>\n",
       "      <th>click_bool</th>\n",
       "      <th>gross_bookings_usd</th>\n",
       "      <th>booking_bool</th>\n",
       "    </tr>\n",
       "  </thead>\n",
       "  <tbody>\n",
       "    <tr>\n",
       "      <th>count</th>\n",
       "      <td>4.958347e+06</td>\n",
       "      <td>4.958347e+06</td>\n",
       "      <td>4.958347e+06</td>\n",
       "      <td>251866.000000</td>\n",
       "      <td>252988.000000</td>\n",
       "      <td>4.958347e+06</td>\n",
       "      <td>4.958347e+06</td>\n",
       "      <td>4.958347e+06</td>\n",
       "      <td>4.950983e+06</td>\n",
       "      <td>4.958347e+06</td>\n",
       "      <td>...</td>\n",
       "      <td>96174.000000</td>\n",
       "      <td>315348.000000</td>\n",
       "      <td>356422.000000</td>\n",
       "      <td>138515.000000</td>\n",
       "      <td>1.916654e+06</td>\n",
       "      <td>1.987503e+06</td>\n",
       "      <td>614730.000000</td>\n",
       "      <td>4.958347e+06</td>\n",
       "      <td>138390.000000</td>\n",
       "      <td>4.958347e+06</td>\n",
       "    </tr>\n",
       "    <tr>\n",
       "      <th>mean</th>\n",
       "      <td>1.663666e+05</td>\n",
       "      <td>9.953133e+00</td>\n",
       "      <td>1.753405e+02</td>\n",
       "      <td>3.374334</td>\n",
       "      <td>176.022659</td>\n",
       "      <td>1.739739e+02</td>\n",
       "      <td>7.007918e+04</td>\n",
       "      <td>3.180525e+00</td>\n",
       "      <td>3.777777e+00</td>\n",
       "      <td>6.346994e-01</td>\n",
       "      <td>...</td>\n",
       "      <td>17.250473</td>\n",
       "      <td>0.145969</td>\n",
       "      <td>0.083202</td>\n",
       "      <td>19.433267</td>\n",
       "      <td>-6.089936e-02</td>\n",
       "      <td>9.962752e-03</td>\n",
       "      <td>22.430384</td>\n",
       "      <td>4.474858e-02</td>\n",
       "      <td>386.283316</td>\n",
       "      <td>2.791051e-02</td>\n",
       "    </tr>\n",
       "    <tr>\n",
       "      <th>std</th>\n",
       "      <td>9.611223e+04</td>\n",
       "      <td>7.646890e+00</td>\n",
       "      <td>6.591625e+01</td>\n",
       "      <td>0.692519</td>\n",
       "      <td>107.254493</td>\n",
       "      <td>6.834525e+01</td>\n",
       "      <td>4.060992e+04</td>\n",
       "      <td>1.051024e+00</td>\n",
       "      <td>1.050329e+00</td>\n",
       "      <td>4.815144e-01</td>\n",
       "      <td>...</td>\n",
       "      <td>31.160313</td>\n",
       "      <td>0.578202</td>\n",
       "      <td>0.316722</td>\n",
       "      <td>54.370221</td>\n",
       "      <td>4.691723e-01</td>\n",
       "      <td>2.029142e-01</td>\n",
       "      <td>895.965854</td>\n",
       "      <td>2.067514e-01</td>\n",
       "      <td>821.190577</td>\n",
       "      <td>1.647165e-01</td>\n",
       "    </tr>\n",
       "    <tr>\n",
       "      <th>min</th>\n",
       "      <td>1.000000e+00</td>\n",
       "      <td>1.000000e+00</td>\n",
       "      <td>1.000000e+00</td>\n",
       "      <td>1.410000</td>\n",
       "      <td>0.000000</td>\n",
       "      <td>1.000000e+00</td>\n",
       "      <td>1.000000e+00</td>\n",
       "      <td>0.000000e+00</td>\n",
       "      <td>0.000000e+00</td>\n",
       "      <td>0.000000e+00</td>\n",
       "      <td>...</td>\n",
       "      <td>2.000000</td>\n",
       "      <td>-1.000000</td>\n",
       "      <td>-1.000000</td>\n",
       "      <td>2.000000</td>\n",
       "      <td>-1.000000e+00</td>\n",
       "      <td>-1.000000e+00</td>\n",
       "      <td>2.000000</td>\n",
       "      <td>0.000000e+00</td>\n",
       "      <td>0.000000</td>\n",
       "      <td>0.000000e+00</td>\n",
       "    </tr>\n",
       "    <tr>\n",
       "      <th>25%</th>\n",
       "      <td>8.293600e+04</td>\n",
       "      <td>5.000000e+00</td>\n",
       "      <td>1.000000e+02</td>\n",
       "      <td>2.920000</td>\n",
       "      <td>109.810000</td>\n",
       "      <td>1.000000e+02</td>\n",
       "      <td>3.501000e+04</td>\n",
       "      <td>3.000000e+00</td>\n",
       "      <td>3.500000e+00</td>\n",
       "      <td>0.000000e+00</td>\n",
       "      <td>...</td>\n",
       "      <td>6.000000</td>\n",
       "      <td>0.000000</td>\n",
       "      <td>0.000000</td>\n",
       "      <td>7.000000</td>\n",
       "      <td>0.000000e+00</td>\n",
       "      <td>0.000000e+00</td>\n",
       "      <td>7.000000</td>\n",
       "      <td>0.000000e+00</td>\n",
       "      <td>124.000000</td>\n",
       "      <td>0.000000e+00</td>\n",
       "    </tr>\n",
       "    <tr>\n",
       "      <th>50%</th>\n",
       "      <td>1.665070e+05</td>\n",
       "      <td>5.000000e+00</td>\n",
       "      <td>2.190000e+02</td>\n",
       "      <td>3.450000</td>\n",
       "      <td>152.240000</td>\n",
       "      <td>2.190000e+02</td>\n",
       "      <td>6.963800e+04</td>\n",
       "      <td>3.000000e+00</td>\n",
       "      <td>4.000000e+00</td>\n",
       "      <td>1.000000e+00</td>\n",
       "      <td>...</td>\n",
       "      <td>11.000000</td>\n",
       "      <td>0.000000</td>\n",
       "      <td>0.000000</td>\n",
       "      <td>12.000000</td>\n",
       "      <td>0.000000e+00</td>\n",
       "      <td>0.000000e+00</td>\n",
       "      <td>11.000000</td>\n",
       "      <td>0.000000e+00</td>\n",
       "      <td>218.400000</td>\n",
       "      <td>0.000000e+00</td>\n",
       "    </tr>\n",
       "    <tr>\n",
       "      <th>75%</th>\n",
       "      <td>2.497240e+05</td>\n",
       "      <td>1.400000e+01</td>\n",
       "      <td>2.190000e+02</td>\n",
       "      <td>3.930000</td>\n",
       "      <td>213.490000</td>\n",
       "      <td>2.190000e+02</td>\n",
       "      <td>1.051680e+05</td>\n",
       "      <td>4.000000e+00</td>\n",
       "      <td>4.500000e+00</td>\n",
       "      <td>1.000000e+00</td>\n",
       "      <td>...</td>\n",
       "      <td>18.000000</td>\n",
       "      <td>1.000000</td>\n",
       "      <td>0.000000</td>\n",
       "      <td>20.000000</td>\n",
       "      <td>0.000000e+00</td>\n",
       "      <td>0.000000e+00</td>\n",
       "      <td>17.000000</td>\n",
       "      <td>0.000000e+00</td>\n",
       "      <td>429.790000</td>\n",
       "      <td>0.000000e+00</td>\n",
       "    </tr>\n",
       "    <tr>\n",
       "      <th>max</th>\n",
       "      <td>3.327850e+05</td>\n",
       "      <td>3.400000e+01</td>\n",
       "      <td>2.310000e+02</td>\n",
       "      <td>5.000000</td>\n",
       "      <td>1958.700000</td>\n",
       "      <td>2.300000e+02</td>\n",
       "      <td>1.408210e+05</td>\n",
       "      <td>5.000000e+00</td>\n",
       "      <td>5.000000e+00</td>\n",
       "      <td>1.000000e+00</td>\n",
       "      <td>...</td>\n",
       "      <td>1620.000000</td>\n",
       "      <td>1.000000</td>\n",
       "      <td>1.000000</td>\n",
       "      <td>9900.000000</td>\n",
       "      <td>1.000000e+00</td>\n",
       "      <td>1.000000e+00</td>\n",
       "      <td>149400.000000</td>\n",
       "      <td>1.000000e+00</td>\n",
       "      <td>159292.380000</td>\n",
       "      <td>1.000000e+00</td>\n",
       "    </tr>\n",
       "  </tbody>\n",
       "</table>\n",
       "<p>8 rows × 53 columns</p>\n",
       "</div>"
      ],
      "text/plain": [
       "            srch_id       site_id  visitor_location_country_id  \\\n",
       "count  4.958347e+06  4.958347e+06                 4.958347e+06   \n",
       "mean   1.663666e+05  9.953133e+00                 1.753405e+02   \n",
       "std    9.611223e+04  7.646890e+00                 6.591625e+01   \n",
       "min    1.000000e+00  1.000000e+00                 1.000000e+00   \n",
       "25%    8.293600e+04  5.000000e+00                 1.000000e+02   \n",
       "50%    1.665070e+05  5.000000e+00                 2.190000e+02   \n",
       "75%    2.497240e+05  1.400000e+01                 2.190000e+02   \n",
       "max    3.327850e+05  3.400000e+01                 2.310000e+02   \n",
       "\n",
       "       visitor_hist_starrating  visitor_hist_adr_usd  prop_country_id  \\\n",
       "count            251866.000000         252988.000000     4.958347e+06   \n",
       "mean                  3.374334            176.022659     1.739739e+02   \n",
       "std                   0.692519            107.254493     6.834525e+01   \n",
       "min                   1.410000              0.000000     1.000000e+00   \n",
       "25%                   2.920000            109.810000     1.000000e+02   \n",
       "50%                   3.450000            152.240000     2.190000e+02   \n",
       "75%                   3.930000            213.490000     2.190000e+02   \n",
       "max                   5.000000           1958.700000     2.300000e+02   \n",
       "\n",
       "            prop_id  prop_starrating  prop_review_score  prop_brand_bool  \\\n",
       "count  4.958347e+06     4.958347e+06       4.950983e+06     4.958347e+06   \n",
       "mean   7.007918e+04     3.180525e+00       3.777777e+00     6.346994e-01   \n",
       "std    4.060992e+04     1.051024e+00       1.050329e+00     4.815144e-01   \n",
       "min    1.000000e+00     0.000000e+00       0.000000e+00     0.000000e+00   \n",
       "25%    3.501000e+04     3.000000e+00       3.500000e+00     0.000000e+00   \n",
       "50%    6.963800e+04     3.000000e+00       4.000000e+00     1.000000e+00   \n",
       "75%    1.051680e+05     4.000000e+00       4.500000e+00     1.000000e+00   \n",
       "max    1.408210e+05     5.000000e+00       5.000000e+00     1.000000e+00   \n",
       "\n",
       "           ...       comp6_rate_percent_diff     comp7_rate      comp7_inv  \\\n",
       "count      ...                  96174.000000  315348.000000  356422.000000   \n",
       "mean       ...                     17.250473       0.145969       0.083202   \n",
       "std        ...                     31.160313       0.578202       0.316722   \n",
       "min        ...                      2.000000      -1.000000      -1.000000   \n",
       "25%        ...                      6.000000       0.000000       0.000000   \n",
       "50%        ...                     11.000000       0.000000       0.000000   \n",
       "75%        ...                     18.000000       1.000000       0.000000   \n",
       "max        ...                   1620.000000       1.000000       1.000000   \n",
       "\n",
       "       comp7_rate_percent_diff    comp8_rate     comp8_inv  \\\n",
       "count            138515.000000  1.916654e+06  1.987503e+06   \n",
       "mean                 19.433267 -6.089936e-02  9.962752e-03   \n",
       "std                  54.370221  4.691723e-01  2.029142e-01   \n",
       "min                   2.000000 -1.000000e+00 -1.000000e+00   \n",
       "25%                   7.000000  0.000000e+00  0.000000e+00   \n",
       "50%                  12.000000  0.000000e+00  0.000000e+00   \n",
       "75%                  20.000000  0.000000e+00  0.000000e+00   \n",
       "max                9900.000000  1.000000e+00  1.000000e+00   \n",
       "\n",
       "       comp8_rate_percent_diff    click_bool  gross_bookings_usd  booking_bool  \n",
       "count            614730.000000  4.958347e+06       138390.000000  4.958347e+06  \n",
       "mean                 22.430384  4.474858e-02          386.283316  2.791051e-02  \n",
       "std                 895.965854  2.067514e-01          821.190577  1.647165e-01  \n",
       "min                   2.000000  0.000000e+00            0.000000  0.000000e+00  \n",
       "25%                   7.000000  0.000000e+00          124.000000  0.000000e+00  \n",
       "50%                  11.000000  0.000000e+00          218.400000  0.000000e+00  \n",
       "75%                  17.000000  0.000000e+00          429.790000  0.000000e+00  \n",
       "max              149400.000000  1.000000e+00       159292.380000  1.000000e+00  \n",
       "\n",
       "[8 rows x 53 columns]"
      ]
     },
     "execution_count": 13,
     "metadata": {},
     "output_type": "execute_result"
    }
   ],
   "source": [
    "train_df.describe()"
   ]
  },
  {
   "cell_type": "code",
   "execution_count": 40,
   "metadata": {
    "collapsed": false,
    "scrolled": true
   },
   "outputs": [
    {
     "name": "stdout",
     "output_type": "stream",
     "text": [
      "count    4.958347e+06\n",
      "mean     4.474858e-02\n",
      "std      2.067514e-01\n",
      "min      0.000000e+00\n",
      "50%      0.000000e+00\n",
      "95.5%    0.000000e+00\n",
      "95.6%    1.000000e+00\n",
      "max      1.000000e+00\n",
      "Name: click_bool, dtype: float64\n",
      "----------------------------------------\n"
     ]
    },
    {
     "data": {
      "text/plain": [
       "count    4.958347e+06\n",
       "mean     2.791051e-02\n",
       "std      1.647165e-01\n",
       "min      0.000000e+00\n",
       "50%      0.000000e+00\n",
       "97.2%    0.000000e+00\n",
       "97.3%    1.000000e+00\n",
       "max      1.000000e+00\n",
       "Name: booking_bool, dtype: float64"
      ]
     },
     "execution_count": 40,
     "metadata": {},
     "output_type": "execute_result"
    }
   ],
   "source": [
    "print (train_df.click_bool.describe(percentiles=[.955,0.956] ))\n",
    "print(\"-\"*40)\n",
    "train_df.booking_bool.describe(percentiles=[.972,0.973] )"
   ]
  },
  {
   "cell_type": "markdown",
   "metadata": {},
   "source": [
    "only 4.4% listing property was clicked and only 2.7% listing property was booked in training data."
   ]
  },
  {
   "cell_type": "code",
   "execution_count": 85,
   "metadata": {
    "collapsed": false
   },
   "outputs": [
    {
     "name": "stdout",
     "output_type": "stream",
     "text": [
      "210\n"
     ]
    },
    {
     "data": {
      "text/plain": [
       "210"
      ]
     },
     "execution_count": 85,
     "metadata": {},
     "output_type": "execute_result"
    }
   ],
   "source": [
    "##print(Counter(train_df.visitor_location_country_id))\n",
    "print(len(Counter(train_df.visitor_location_country_id)))\n",
    "len(Counter(test_df.visitor_location_country_id))"
   ]
  },
  {
   "cell_type": "markdown",
   "metadata": {},
   "source": [
    "totally 210 visitor_location country id in both test and train dataset."
   ]
  },
  {
   "cell_type": "code",
   "execution_count": 38,
   "metadata": {
    "collapsed": false
   },
   "outputs": [
    {
     "name": "stdout",
     "output_type": "stream",
     "text": [
      "172\n",
      "167\n",
      "{7, 79, 111, 19, 87}\n"
     ]
    }
   ],
   "source": [
    "##print(Counter(train_df.prop_country_id))\n",
    "      \n",
    "print(len(Counter(train_df.prop_country_id)))\n",
    "print(len(Counter(test_df.prop_country_id)))\n",
    "c = Counter(train_df.prop_country_id).keys() - Counter(test_df.prop_country_id).keys()\n",
    "print (c)"
   ]
  },
  {
   "cell_type": "markdown",
   "metadata": {},
   "source": [
    "totally 172 property country id in train but only 167 country id in test dataset. Shall we delete the unique id in trainset to increase accuarcy?"
   ]
  },
  {
   "cell_type": "code",
   "execution_count": 103,
   "metadata": {
    "collapsed": false
   },
   "outputs": [
    {
     "name": "stdout",
     "output_type": "stream",
     "text": [
      "129113\n",
      "129438\n",
      "7773\n"
     ]
    }
   ],
   "source": [
    "print(len(Counter(train_df.prop_id)))\n",
    "print (len(Counter(test_df.prop_id)))\n",
    "d = Counter(test_df.prop_id).keys() - Counter(train_df.prop_id).keys()\n",
    "print (len(d))"
   ]
  },
  {
   "cell_type": "markdown",
   "metadata": {},
   "source": [
    "Totally 129113 prop id in trainset but only 129438 prop id in testset and the id shared on both sets are 121665 , which means 94.23% hotels in train sets present in testsets!!"
   ]
  },
  {
   "cell_type": "code",
   "execution_count": 102,
   "metadata": {
    "collapsed": false
   },
   "outputs": [
    {
     "name": "stdout",
     "output_type": "stream",
     "text": [
      "18127\n",
      "18049\n",
      "5666\n"
     ]
    }
   ],
   "source": [
    "print(train_df.srch_destination_id.nunique())\n",
    "print (len(Counter(test_df.srch_destination_id)))\n",
    "E = Counter(train_df.srch_destination_id).keys() - Counter(test_df.srch_destination_id).keys()\n",
    "print (len(E))"
   ]
  },
  {
   "cell_type": "markdown",
   "metadata": {},
   "source": [
    "Total 18127 destination id in testset and id shared on both sets are 12461, 68.74% "
   ]
  },
  {
   "cell_type": "code",
   "execution_count": 111,
   "metadata": {
    "collapsed": false
   },
   "outputs": [
    {
     "data": {
      "text/plain": [
       "0.93598552098108501"
      ]
     },
     "execution_count": 111,
     "metadata": {},
     "output_type": "execute_result"
    }
   ],
   "source": [
    "train_df.srch_query_affinity_score.isnull().sum()/len(train_df.srch_query_affinity_score)"
   ]
  },
  {
   "cell_type": "markdown",
   "metadata": {},
   "source": [
    "the missing value occupies 93.59%, see the table in data overview and find the plot of missing values."
   ]
  },
  {
   "cell_type": "code",
   "execution_count": 160,
   "metadata": {
    "collapsed": false
   },
   "outputs": [
    {
     "name": "stdout",
     "output_type": "stream",
     "text": [
      "   prop_brand_bool  click_bool\n",
      "1                1    0.044884\n",
      "0                0    0.044513\n",
      "   prop_brand_bool  booking_bool\n",
      "1                1      0.029159\n",
      "0                0      0.025741\n"
     ]
    }
   ],
   "source": [
    "print(train_df[['prop_brand_bool', 'click_bool']].groupby(['prop_brand_bool'], as_index=False).mean().sort_values(by='click_bool', ascending=False))\n",
    "print(train_df[['prop_brand_bool', 'booking_bool']].groupby(['prop_brand_bool'], as_index=False).mean().sort_values(by='booking_bool', ascending=False))"
   ]
  },
  {
   "cell_type": "markdown",
   "metadata": {},
   "source": [
    "We can see people has no big preference on brand chain hotels when deciding if they want to click the listing. But in the end more corelative  "
   ]
  },
  {
   "cell_type": "code",
   "execution_count": 6,
   "metadata": {
    "collapsed": false
   },
   "outputs": [
    {
     "data": {
      "image/png": "[encoded data removed]",
      "text/plain": [
       "<matplotlib.figure.Figure at 0x1ef4ea33c50>"
      ]
     },
     "metadata": {},
     "output_type": "display_data"
    }
   ],
   "source": [
    "sns.barplot(x=\"prop_starrating\", y=\"booking_bool\", hue = \"prop_brand_bool\", data = train_df);\n"
   ]
  },
  {
   "cell_type": "markdown",
   "metadata": {},
   "source": [
    "as we can see from the plot, 4 star hotel has highest booking rate, then 3,5,2,1. 0 is special since it's just without star info. when the star is low, the brand chain effect has bigger influence on booking rate, but 4star is special, people has more concern on if they are chain brand. "
   ]
  },
  {
   "cell_type": "code",
   "execution_count": 7,
   "metadata": {
    "collapsed": false,
    "scrolled": true
   },
   "outputs": [
    {
     "data": {
      "image/png": "[encoded data removed]",
      "text/plain": [
       "<matplotlib.figure.Figure at 0x1ef4bfcc2b0>"
      ]
     },
     "metadata": {},
     "output_type": "display_data"
    }
   ],
   "source": [
    "sns.barplot(x=\"prop_starrating\", y=\"click_bool\", hue = \"prop_brand_bool\", data = train_df);"
   ]
  },
  {
   "cell_type": "markdown",
   "metadata": {},
   "source": [
    "the brand effect has less influence on if customer is willing to click on the list, the same as booking rate, for 4 star hotel people has more concern on if it's a chain brand but for 3star, much less concern on this point."
   ]
  },
  {
   "cell_type": "code",
   "execution_count": 8,
   "metadata": {
    "collapsed": false
   },
   "outputs": [
    {
     "data": {
      "image/png": "[encoded data removed]",
      "text/plain": [
       "<matplotlib.figure.Figure at 0x1ef4a5dcfd0>"
      ]
     },
     "metadata": {},
     "output_type": "display_data"
    }
   ],
   "source": [
    "sns.barplot(x=\"prop_starrating\", y=\"price_usd\", hue = \"booking_bool\", data = train_df);"
   ]
  },
  {
   "cell_type": "markdown",
   "metadata": {},
   "source": [
    "normally booked hotel price is lower than non booked price, especially for 4 star hotel, but for 5 star hotel the plot is strange, first the highest and lowest price differs a lot. second booked price is higher than non booked price, which implies more expensive more popular, fits the mindset of rich people."
   ]
  },
  {
   "cell_type": "markdown",
   "metadata": {},
   "source": [
    "# Transforming Features\n"
   ]
  },
  {
   "cell_type": "code",
   "execution_count": 40,
   "metadata": {
    "collapsed": false
   },
   "outputs": [
    {
     "name": "stdout",
     "output_type": "stream",
     "text": [
      "         srch_id            date_time  site_id  visitor_location_country_id  \\\n",
      "0              1  2013-04-04 08:32:15       12                          187   \n",
      "1              1  2013-04-04 08:32:15       12                          187   \n",
      "2              1  2013-04-04 08:32:15       12                          187   \n",
      "3              1  2013-04-04 08:32:15       12                          187   \n",
      "4              1  2013-04-04 08:32:15       12                          187   \n",
      "5              1  2013-04-04 08:32:15       12                          187   \n",
      "6              1  2013-04-04 08:32:15       12                          187   \n",
      "7              1  2013-04-04 08:32:15       12                          187   \n",
      "8              1  2013-04-04 08:32:15       12                          187   \n",
      "9              1  2013-04-04 08:32:15       12                          187   \n",
      "10             1  2013-04-04 08:32:15       12                          187   \n",
      "11             1  2013-04-04 08:32:15       12                          187   \n",
      "12             1  2013-04-04 08:32:15       12                          187   \n",
      "13             1  2013-04-04 08:32:15       12                          187   \n",
      "14             1  2013-04-04 08:32:15       12                          187   \n",
      "15             1  2013-04-04 08:32:15       12                          187   \n",
      "16             1  2013-04-04 08:32:15       12                          187   \n",
      "17             1  2013-04-04 08:32:15       12                          187   \n",
      "18             1  2013-04-04 08:32:15       12                          187   \n",
      "19             1  2013-04-04 08:32:15       12                          187   \n",
      "20             1  2013-04-04 08:32:15       12                          187   \n",
      "21             1  2013-04-04 08:32:15       12                          187   \n",
      "22             1  2013-04-04 08:32:15       12                          187   \n",
      "23             1  2013-04-04 08:32:15       12                          187   \n",
      "24             1  2013-04-04 08:32:15       12                          187   \n",
      "25             1  2013-04-04 08:32:15       12                          187   \n",
      "26             1  2013-04-04 08:32:15       12                          187   \n",
      "27             1  2013-04-04 08:32:15       12                          187   \n",
      "28             4  2012-12-31 08:59:22        5                          219   \n",
      "29             4  2012-12-31 08:59:22        5                          219   \n",
      "...          ...                  ...      ...                          ...   \n",
      "4958317   332784  2013-06-18 14:35:24       24                          219   \n",
      "4958318   332784  2013-06-18 14:35:24       24                          219   \n",
      "4958319   332784  2013-06-18 14:35:24       24                          219   \n",
      "4958320   332784  2013-06-18 14:35:24       24                          219   \n",
      "4958321   332784  2013-06-18 14:35:24       24                          219   \n",
      "4958322   332784  2013-06-18 14:35:24       24                          219   \n",
      "4958323   332784  2013-06-18 14:35:24       24                          219   \n",
      "4958324   332784  2013-06-18 14:35:24       24                          219   \n",
      "4958325   332784  2013-06-18 14:35:24       24                          219   \n",
      "4958326   332784  2013-06-18 14:35:24       24                          219   \n",
      "4958327   332784  2013-06-18 14:35:24       24                          219   \n",
      "4958328   332784  2013-06-18 14:35:24       24                          219   \n",
      "4958329   332784  2013-06-18 14:35:24       24                          219   \n",
      "4958330   332784  2013-06-18 14:35:24       24                          219   \n",
      "4958331   332784  2013-06-18 14:35:24       24                          219   \n",
      "4958332   332784  2013-06-18 14:35:24       24                          219   \n",
      "4958333   332784  2013-06-18 14:35:24       24                          219   \n",
      "4958334   332784  2013-06-18 14:35:24       24                          219   \n",
      "4958335   332784  2013-06-18 14:35:24       24                          219   \n",
      "4958336   332784  2013-06-18 14:35:24       24                          219   \n",
      "4958337   332784  2013-06-18 14:35:24       24                          219   \n",
      "4958338   332784  2013-06-18 14:35:24       24                          219   \n",
      "4958339   332784  2013-06-18 14:35:24       24                          219   \n",
      "4958340   332784  2013-06-18 14:35:24       24                          219   \n",
      "4958341   332785  2013-06-30 19:55:18        5                          219   \n",
      "4958342   332785  2013-06-30 19:55:18        5                          219   \n",
      "4958343   332785  2013-06-30 19:55:18        5                          219   \n",
      "4958344   332785  2013-06-30 19:55:18        5                          219   \n",
      "4958345   332785  2013-06-30 19:55:18        5                          219   \n",
      "4958346   332785  2013-06-30 19:55:18        5                          219   \n",
      "\n",
      "         visitor_hist_starrating  visitor_hist_adr_usd  prop_country_id  \\\n",
      "0                            NaN                   NaN              219   \n",
      "1                            NaN                   NaN              219   \n",
      "2                            NaN                   NaN              219   \n",
      "3                            NaN                   NaN              219   \n",
      "4                            NaN                   NaN              219   \n",
      "5                            NaN                   NaN              219   \n",
      "6                            NaN                   NaN              219   \n",
      "7                            NaN                   NaN              219   \n",
      "8                            NaN                   NaN              219   \n",
      "9                            NaN                   NaN              219   \n",
      "10                           NaN                   NaN              219   \n",
      "11                           NaN                   NaN              219   \n",
      "12                           NaN                   NaN              219   \n",
      "13                           NaN                   NaN              219   \n",
      "14                           NaN                   NaN              219   \n",
      "15                           NaN                   NaN              219   \n",
      "16                           NaN                   NaN              219   \n",
      "17                           NaN                   NaN              219   \n",
      "18                           NaN                   NaN              219   \n",
      "19                           NaN                   NaN              219   \n",
      "20                           NaN                   NaN              219   \n",
      "21                           NaN                   NaN              219   \n",
      "22                           NaN                   NaN              219   \n",
      "23                           NaN                   NaN              219   \n",
      "24                           NaN                   NaN              219   \n",
      "25                           NaN                   NaN              219   \n",
      "26                           NaN                   NaN              219   \n",
      "27                           NaN                   NaN              219   \n",
      "28                           NaN                   NaN              219   \n",
      "29                           NaN                   NaN              219   \n",
      "...                          ...                   ...              ...   \n",
      "4958317                      NaN                   NaN              100   \n",
      "4958318                      NaN                   NaN              100   \n",
      "4958319                      NaN                   NaN              100   \n",
      "4958320                      NaN                   NaN              100   \n",
      "4958321                      NaN                   NaN              100   \n",
      "4958322                      NaN                   NaN              100   \n",
      "4958323                      NaN                   NaN              100   \n",
      "4958324                      NaN                   NaN              100   \n",
      "4958325                      NaN                   NaN              100   \n",
      "4958326                      NaN                   NaN              100   \n",
      "4958327                      NaN                   NaN              100   \n",
      "4958328                      NaN                   NaN              100   \n",
      "4958329                      NaN                   NaN              100   \n",
      "4958330                      NaN                   NaN              100   \n",
      "4958331                      NaN                   NaN              100   \n",
      "4958332                      NaN                   NaN              100   \n",
      "4958333                      NaN                   NaN              100   \n",
      "4958334                      NaN                   NaN              100   \n",
      "4958335                      NaN                   NaN              100   \n",
      "4958336                      NaN                   NaN              100   \n",
      "4958337                      NaN                   NaN              100   \n",
      "4958338                      NaN                   NaN              100   \n",
      "4958339                      NaN                   NaN              100   \n",
      "4958340                      NaN                   NaN              100   \n",
      "4958341                      NaN                   NaN              219   \n",
      "4958342                      NaN                   NaN              219   \n",
      "4958343                      NaN                   NaN              219   \n",
      "4958344                      NaN                   NaN              219   \n",
      "4958345                      NaN                   NaN              219   \n",
      "4958346                      NaN                   NaN              219   \n",
      "\n",
      "         prop_id  prop_starrating  prop_review_score      ...       \\\n",
      "0            893                3                3.5      ...        \n",
      "1          10404                4                4.0      ...        \n",
      "2          21315                3                4.5      ...        \n",
      "3          27348                2                4.0      ...        \n",
      "4          29604                4                3.5      ...        \n",
      "5          30184                4                4.5      ...        \n",
      "6          44147                3                3.5      ...        \n",
      "7          50984                2                0.0      ...        \n",
      "8          53341                4                4.0      ...        \n",
      "9          56880                4                4.0      ...        \n",
      "10         59267                3                0.0      ...        \n",
      "11         59526                3                3.5      ...        \n",
      "12         68914                2                3.0      ...        \n",
      "13         74474                3                4.5      ...        \n",
      "14         81437                3                4.0      ...        \n",
      "15         85728                2                3.0      ...        \n",
      "16         88096                4                4.0      ...        \n",
      "17         88127                3                3.0      ...        \n",
      "18         88218                4                3.5      ...        \n",
      "19         89073                4                4.0      ...        \n",
      "20         95166                3                4.0      ...        \n",
      "21         95307                4                3.5      ...        \n",
      "22         97247                2                3.5      ...        \n",
      "23        107872                2                3.5      ...        \n",
      "24        111000                3                4.5      ...        \n",
      "25        111106                3                2.5      ...        \n",
      "26        114766                2                3.5      ...        \n",
      "27        122844                3                4.5      ...        \n",
      "28          3625                4                4.0      ...        \n",
      "29         11622                4                4.0      ...        \n",
      "...          ...              ...                ...      ...        \n",
      "4958317    21150                3                4.0      ...        \n",
      "4958318    25223                4                4.0      ...        \n",
      "4958319    28943                4                3.5      ...        \n",
      "4958320    31381                4                4.5      ...        \n",
      "4958321    34966                3                4.5      ...        \n",
      "4958322    48216                4                5.0      ...        \n",
      "4958323    48512                4                4.5      ...        \n",
      "4958324    50151                5                4.5      ...        \n",
      "4958325    51555                4                4.5      ...        \n",
      "4958326    51585                4                4.5      ...        \n",
      "4958327    51653                4                4.5      ...        \n",
      "4958328    52463                4                4.5      ...        \n",
      "4958329    55158                5                4.5      ...        \n",
      "4958330    58015                4                4.5      ...        \n",
      "4958331    78171                2                0.0      ...        \n",
      "4958332    82051                3                3.5      ...        \n",
      "4958333    88307                2                3.0      ...        \n",
      "4958334    89802                2                4.0      ...        \n",
      "4958335    90665                4                4.5      ...        \n",
      "4958336   114177                4                4.5      ...        \n",
      "4958337   115562                4                4.0      ...        \n",
      "4958338   121275                4                4.0      ...        \n",
      "4958339   128677                3                3.5      ...        \n",
      "4958340   140304                3                4.0      ...        \n",
      "4958341    55110                3                1.0      ...        \n",
      "4958342    77700                3                4.0      ...        \n",
      "4958343    88083                3                4.0      ...        \n",
      "4958344    94508                3                3.5      ...        \n",
      "4958345   128360                3                5.0      ...        \n",
      "4958346   134949                3                2.5      ...        \n",
      "\n",
      "         comp6_rate_percent_diff  comp7_rate  comp7_inv  \\\n",
      "0                            NaN         NaN        NaN   \n",
      "1                            NaN         NaN        NaN   \n",
      "2                            NaN         NaN        NaN   \n",
      "3                            NaN         NaN        NaN   \n",
      "4                            NaN         NaN        NaN   \n",
      "5                            NaN         NaN        NaN   \n",
      "6                            NaN         NaN        NaN   \n",
      "7                            NaN         NaN        NaN   \n",
      "8                            NaN         NaN        NaN   \n",
      "9                            NaN         NaN        NaN   \n",
      "10                           NaN         NaN        NaN   \n",
      "11                           NaN         NaN        NaN   \n",
      "12                           NaN         NaN        NaN   \n",
      "13                           NaN         NaN        NaN   \n",
      "14                           NaN         NaN        NaN   \n",
      "15                           NaN         NaN        NaN   \n",
      "16                           NaN         NaN        NaN   \n",
      "17                           NaN         NaN        NaN   \n",
      "18                           NaN         NaN        NaN   \n",
      "19                           NaN         NaN        NaN   \n",
      "20                           NaN         NaN        NaN   \n",
      "21                           NaN         NaN        NaN   \n",
      "22                           NaN         NaN        NaN   \n",
      "23                           NaN         NaN        NaN   \n",
      "24                           NaN         NaN        NaN   \n",
      "25                           NaN         NaN        NaN   \n",
      "26                           NaN         NaN        NaN   \n",
      "27                           NaN         NaN        NaN   \n",
      "28                           NaN         NaN        NaN   \n",
      "29                           NaN         NaN        NaN   \n",
      "...                          ...         ...        ...   \n",
      "4958317                      NaN         NaN        NaN   \n",
      "4958318                      NaN         NaN        NaN   \n",
      "4958319                      NaN         NaN        NaN   \n",
      "4958320                      NaN         NaN        NaN   \n",
      "4958321                      NaN         NaN        NaN   \n",
      "4958322                      NaN         NaN        NaN   \n",
      "4958323                      NaN         NaN        NaN   \n",
      "4958324                      NaN         NaN        NaN   \n",
      "4958325                      NaN         NaN        NaN   \n",
      "4958326                      NaN         NaN        NaN   \n",
      "4958327                      NaN         NaN        NaN   \n",
      "4958328                      NaN         NaN        NaN   \n",
      "4958329                      NaN         NaN        NaN   \n",
      "4958330                      NaN         NaN        NaN   \n",
      "4958331                      NaN         NaN        NaN   \n",
      "4958332                      NaN         NaN        NaN   \n",
      "4958333                      NaN         NaN        NaN   \n",
      "4958334                      NaN         NaN        NaN   \n",
      "4958335                      NaN         NaN        NaN   \n",
      "4958336                      NaN         NaN        NaN   \n",
      "4958337                      NaN         NaN        NaN   \n",
      "4958338                      NaN         NaN        NaN   \n",
      "4958339                      NaN         NaN        NaN   \n",
      "4958340                      NaN         NaN        NaN   \n",
      "4958341                      NaN         NaN        NaN   \n",
      "4958342                      NaN         NaN        NaN   \n",
      "4958343                      NaN         NaN        NaN   \n",
      "4958344                      NaN         NaN        NaN   \n",
      "4958345                      NaN         NaN        NaN   \n",
      "4958346                      NaN         NaN        NaN   \n",
      "\n",
      "         comp7_rate_percent_diff  comp8_rate  comp8_inv  \\\n",
      "0                            NaN         0.0        0.0   \n",
      "1                            NaN         0.0        0.0   \n",
      "2                            NaN         0.0        0.0   \n",
      "3                            NaN        -1.0        0.0   \n",
      "4                            NaN         0.0        0.0   \n",
      "5                            NaN         0.0        0.0   \n",
      "6                            NaN         0.0        0.0   \n",
      "7                            NaN         NaN        NaN   \n",
      "8                            NaN         0.0        0.0   \n",
      "9                            NaN         0.0        0.0   \n",
      "10                           NaN         0.0        0.0   \n",
      "11                           NaN         1.0        0.0   \n",
      "12                           NaN         0.0        0.0   \n",
      "13                           NaN         0.0        0.0   \n",
      "14                           NaN         0.0        0.0   \n",
      "15                           NaN         0.0        0.0   \n",
      "16                           NaN         0.0        0.0   \n",
      "17                           NaN         0.0        0.0   \n",
      "18                           NaN         0.0        0.0   \n",
      "19                           NaN         0.0        0.0   \n",
      "20                           NaN         0.0        0.0   \n",
      "21                           NaN        -1.0        0.0   \n",
      "22                           NaN        -1.0        0.0   \n",
      "23                           NaN         0.0        0.0   \n",
      "24                           NaN         0.0        0.0   \n",
      "25                           NaN         0.0        0.0   \n",
      "26                           NaN         NaN        NaN   \n",
      "27                           NaN         0.0        0.0   \n",
      "28                           NaN         NaN        NaN   \n",
      "29                           NaN         NaN        NaN   \n",
      "...                          ...         ...        ...   \n",
      "4958317                      NaN         0.0        0.0   \n",
      "4958318                      NaN         NaN        NaN   \n",
      "4958319                      NaN         0.0        0.0   \n",
      "4958320                      NaN         NaN        NaN   \n",
      "4958321                      NaN         NaN        NaN   \n",
      "4958322                      NaN         NaN        NaN   \n",
      "4958323                      NaN         NaN        NaN   \n",
      "4958324                      NaN         NaN        NaN   \n",
      "4958325                      NaN         NaN        NaN   \n",
      "4958326                      NaN         NaN        NaN   \n",
      "4958327                      NaN         NaN        NaN   \n",
      "4958328                      NaN         NaN        NaN   \n",
      "4958329                      NaN         NaN        NaN   \n",
      "4958330                      NaN         NaN        NaN   \n",
      "4958331                      NaN         NaN        NaN   \n",
      "4958332                      NaN         1.0        0.0   \n",
      "4958333                      NaN         NaN        NaN   \n",
      "4958334                      NaN         0.0        0.0   \n",
      "4958335                      NaN         NaN        NaN   \n",
      "4958336                      NaN        -1.0        0.0   \n",
      "4958337                      NaN         NaN        NaN   \n",
      "4958338                      NaN         0.0        0.0   \n",
      "4958339                      NaN         0.0        0.0   \n",
      "4958340                      NaN         NaN        NaN   \n",
      "4958341                      NaN         NaN        NaN   \n",
      "4958342                      NaN         NaN        NaN   \n",
      "4958343                      NaN         NaN        NaN   \n",
      "4958344                      NaN         NaN        NaN   \n",
      "4958345                      NaN         NaN        NaN   \n",
      "4958346                      NaN         NaN        NaN   \n",
      "\n",
      "         comp8_rate_percent_diff  click_bool  gross_bookings_usd  booking_bool  \n",
      "0                            NaN           0                 NaN             0  \n",
      "1                            NaN           0                 NaN             0  \n",
      "2                            NaN           0                 NaN             0  \n",
      "3                            5.0           0                 NaN             0  \n",
      "4                            NaN           0                 NaN             0  \n",
      "5                            7.0           0                 NaN             0  \n",
      "6                            NaN           0                 NaN             0  \n",
      "7                            NaN           0                 NaN             0  \n",
      "8                            6.0           0                 NaN             0  \n",
      "9                            NaN           0                 NaN             0  \n",
      "10                           NaN           0                 NaN             0  \n",
      "11                          31.0           0                 NaN             0  \n",
      "12                          11.0           1              114.29             1  \n",
      "13                           NaN           0                 NaN             0  \n",
      "14                           NaN           0                 NaN             0  \n",
      "15                           NaN           0                 NaN             0  \n",
      "16                          15.0           0                 NaN             0  \n",
      "17                           NaN           0                 NaN             0  \n",
      "18                           NaN           0                 NaN             0  \n",
      "19                           5.0           0                 NaN             0  \n",
      "20                           NaN           0                 NaN             0  \n",
      "21                          27.0           0                 NaN             0  \n",
      "22                           5.0           0                 NaN             0  \n",
      "23                          14.0           0                 NaN             0  \n",
      "24                           NaN           0                 NaN             0  \n",
      "25                           NaN           0                 NaN             0  \n",
      "26                           NaN           0                 NaN             0  \n",
      "27                           NaN           0                 NaN             0  \n",
      "28                           NaN           0                 NaN             0  \n",
      "29                           NaN           0                 NaN             0  \n",
      "...                          ...         ...                 ...           ...  \n",
      "4958317                      NaN           0                 NaN             0  \n",
      "4958318                      NaN           0                 NaN             0  \n",
      "4958319                      NaN           0                 NaN             0  \n",
      "4958320                      NaN           0                 NaN             0  \n",
      "4958321                      NaN           1              301.40             1  \n",
      "4958322                      NaN           0                 NaN             0  \n",
      "4958323                      NaN           0                 NaN             0  \n",
      "4958324                      NaN           0                 NaN             0  \n",
      "4958325                      NaN           0                 NaN             0  \n",
      "4958326                      NaN           0                 NaN             0  \n",
      "4958327                      NaN           0                 NaN             0  \n",
      "4958328                      NaN           0                 NaN             0  \n",
      "4958329                      NaN           0                 NaN             0  \n",
      "4958330                      NaN           0                 NaN             0  \n",
      "4958331                      NaN           0                 NaN             0  \n",
      "4958332                     22.0           0                 NaN             0  \n",
      "4958333                      NaN           0                 NaN             0  \n",
      "4958334                      NaN           0                 NaN             0  \n",
      "4958335                      NaN           0                 NaN             0  \n",
      "4958336                     19.0           0                 NaN             0  \n",
      "4958337                      NaN           0                 NaN             0  \n",
      "4958338                      NaN           0                 NaN             0  \n",
      "4958339                      NaN           0                 NaN             0  \n",
      "4958340                      NaN           0                 NaN             0  \n",
      "4958341                      NaN           0                 NaN             0  \n",
      "4958342                      NaN           0                 NaN             0  \n",
      "4958343                      NaN           0                 NaN             0  \n",
      "4958344                      NaN           0                 NaN             0  \n",
      "4958345                      NaN           1              157.84             1  \n",
      "4958346                      NaN           0                 NaN             0  \n",
      "\n",
      "[4958291 rows x 54 columns]\n"
     ]
    }
   ],
   "source": [
    "for i in c:\n",
    "    train_df = train_df[(train_df.prop_id != i)]\n",
    "print (train_df) \n",
    "\n",
    "\n"
   ]
  },
  {
   "cell_type": "code",
   "execution_count": 50,
   "metadata": {
    "collapsed": false
   },
   "outputs": [
    {
     "data": {
      "text/html": [
       "<div>\n",
       "<table border=\"1\" class=\"dataframe\">\n",
       "  <thead>\n",
       "    <tr style=\"text-align: right;\">\n",
       "      <th></th>\n",
       "      <th>srch_id</th>\n",
       "      <th>date_time</th>\n",
       "      <th>site_id</th>\n",
       "      <th>visitor_location_country_id</th>\n",
       "      <th>visitor_hist_starrating</th>\n",
       "      <th>visitor_hist_adr_usd</th>\n",
       "      <th>prop_country_id</th>\n",
       "      <th>prop_id</th>\n",
       "      <th>prop_starrating</th>\n",
       "      <th>prop_review_score</th>\n",
       "      <th>...</th>\n",
       "      <th>comp6_rate_percent_diff</th>\n",
       "      <th>comp7_rate</th>\n",
       "      <th>comp7_inv</th>\n",
       "      <th>comp7_rate_percent_diff</th>\n",
       "      <th>comp8_rate</th>\n",
       "      <th>comp8_inv</th>\n",
       "      <th>comp8_rate_percent_diff</th>\n",
       "      <th>click_bool</th>\n",
       "      <th>gross_bookings_usd</th>\n",
       "      <th>booking_bool</th>\n",
       "    </tr>\n",
       "  </thead>\n",
       "  <tbody>\n",
       "  </tbody>\n",
       "</table>\n",
       "<p>0 rows × 54 columns</p>\n",
       "</div>"
      ],
      "text/plain": [
       "Empty DataFrame\n",
       "Columns: [srch_id, date_time, site_id, visitor_location_country_id, visitor_hist_starrating, visitor_hist_adr_usd, prop_country_id, prop_id, prop_starrating, prop_review_score, prop_brand_bool, prop_location_score1, prop_location_score2, prop_log_historical_price, position, price_usd, promotion_flag, srch_destination_id, srch_length_of_stay, srch_booking_window, srch_adults_count, srch_children_count, srch_room_count, srch_saturday_night_bool, srch_query_affinity_score, orig_destination_distance, random_bool, comp1_rate, comp1_inv, comp1_rate_percent_diff, comp2_rate, comp2_inv, comp2_rate_percent_diff, comp3_rate, comp3_inv, comp3_rate_percent_diff, comp4_rate, comp4_inv, comp4_rate_percent_diff, comp5_rate, comp5_inv, comp5_rate_percent_diff, comp6_rate, comp6_inv, comp6_rate_percent_diff, comp7_rate, comp7_inv, comp7_rate_percent_diff, comp8_rate, comp8_inv, comp8_rate_percent_diff, click_bool, gross_bookings_usd, booking_bool]\n",
       "Index: []\n",
       "\n",
       "[0 rows x 54 columns]"
      ]
     },
     "execution_count": 50,
     "metadata": {},
     "output_type": "execute_result"
    }
   ],
   "source": [
    "train_df.loc[train_df['prop_id'] == 79]"
   ]
  },
  {
   "cell_type": "code",
   "execution_count": 66,
   "metadata": {
    "collapsed": false
   },
   "outputs": [],
   "source": [
    "group_prop_avg = train_df.groupby('prop_id').mean"
   ]
  },
  {
   "cell_type": "code",
   "execution_count": 64,
   "metadata": {
    "collapsed": false
   },
   "outputs": [],
   "source": [
    "group_prop_std = train_df.groupby('prop_id').std()"
   ]
  },
  {
   "cell_type": "code",
   "execution_count": 57,
   "metadata": {
    "collapsed": true
   },
   "outputs": [],
   "source": [
    "group_prop_mid =  train_df.groupby('prop_id').median()"
   ]
  },
  {
   "cell_type": "markdown",
   "metadata": {},
   "source": []
  },
  {
   "cell_type": "code",
   "execution_count": 204,
   "metadata": {
    "collapsed": false
   },
   "outputs": [
    {
     "name": "stdout",
     "output_type": "stream",
     "text": [
      "0.925673378863\n"
     ]
    }
   ],
   "source": [
    "result = pd.read_csv('fake.csv')\n",
    "#result = result.sort_values(['srch_id','probability'], ascending=[True, False])\n",
    "fives = result[result.booking_bool == 1].srch_id.count()\n",
    "logsum5 = fives*5\n",
    "logsum1 = 0.0\n",
    "score = 0.0\n",
    "# count the DCG query by query\n",
    "uniq_values = result.srch_id.unique()\n",
    "for u in uniq_values:\n",
    "    srch_section = result[result.srch_id == u]\n",
    "    book = srch_section[srch_section.booking_bool == 1].srch_id.count()\n",
    "    click = srch_section[srch_section.click_bool == 1].srch_id.count()\n",
    "    for i in range(click):\n",
    "        logsum1= logsum1+1/(np.log(i+2)/np.log(2))\n",
    "    for j in range(book):\n",
    "        logsum1 = logsum1 - 1/(np.log(j+2)/np.log(2))\n",
    "\n",
    "    for k in range(len(srch_section)):\n",
    "        \n",
    "        if ((srch_section.iloc[k]['click_bool'] == 1)&(srch_section.iloc[k]['booking_bool'] == 0)):\n",
    "            score = score + 1/(np.log(k+2)/np.log(2))\n",
    "                               \n",
    "        if ((srch_section.iloc[k]['booking_bool'] == 1)):\n",
    "            score = score + 5/(np.log(k+2)/np.log(2))\n",
    "\n",
    "\n",
    "nDCG = score/(logsum5 + logsum1)  \n",
    "print (nDCG)    "
   ]
  },
  {
   "cell_type": "code",
   "execution_count": 199,
   "metadata": {
    "collapsed": false
   },
   "outputs": [
    {
     "name": "stdout",
     "output_type": "stream",
     "text": [
      "   srch_id  prop_id  booking_bool  click_bool   probability\n",
      "0        1    85728             0           0  1.300000e-10\n",
      "1        1   107872             0           0  1.860000e-10\n",
      "2        1    68914             1           1  1.300000e-10\n",
      "3        1    74474             0           0  1.810000e-10\n",
      "4        1   111000             0           0  1.810000e-10\n",
      "5        1   122844             0           0  1.810000e-10\n",
      "6        1    30184             0           1  1.810000e-10\n",
      "7        1    95166             0           0  1.640000e-10\n",
      "8        1    81437             0           1  1.640000e-10\n",
      "9        1    21315             0           0  1.810000e-10\n"
     ]
    }
   ],
   "source": [
    "result = pd.read_csv('result1.csv')\n",
    "result = result[0:10]\n",
    "print(result)"
   ]
  },
  {
   "cell_type": "code",
   "execution_count": 207,
   "metadata": {
    "collapsed": false
   },
   "outputs": [
    {
     "name": "stdout",
     "output_type": "stream",
     "text": [
      "multiple booking2\n"
     ]
    }
   ],
   "source": [
    "df = pd.read_csv('training_set_VU_DM_2014.csv')\n",
    "uniq_values = result.srch_id.unique()\n",
    "for u in uniq_values:\n",
    "    srch_section = result[result.srch_id == u] \n",
    "    if srch_section[srch_section.booking_bool == 1].srch_id.count()>1:\n",
    "        print (\"multiple booking\"+str(u))"
   ]
  },
  {
   "cell_type": "code",
   "execution_count": 210,
   "metadata": {
    "collapsed": false
   },
   "outputs": [
    {
     "name": "stdout",
     "output_type": "stream",
     "text": [
      "<pandas.core.indexing._IXIndexer object at 0x0000020A811D0588>\n"
     ]
    }
   ],
   "source": [
    "df = pd.read_csv('training_set_VU_DM_2014.csv')\n"
   ]
  },
  {
   "cell_type": "code",
   "execution_count": 226,
   "metadata": {
    "collapsed": false
   },
   "outputs": [
    {
     "data": {
      "text/html": [
       "<div>\n",
       "<table border=\"1\" class=\"dataframe\">\n",
       "  <thead>\n",
       "    <tr style=\"text-align: right;\">\n",
       "      <th></th>\n",
       "      <th>srch_id</th>\n",
       "      <th>date_time</th>\n",
       "      <th>site_id</th>\n",
       "      <th>visitor_location_country_id</th>\n",
       "      <th>visitor_hist_starrating</th>\n",
       "      <th>visitor_hist_adr_usd</th>\n",
       "      <th>prop_country_id</th>\n",
       "      <th>prop_id</th>\n",
       "      <th>prop_starrating</th>\n",
       "      <th>prop_review_score</th>\n",
       "      <th>...</th>\n",
       "      <th>comp6_rate_percent_diff</th>\n",
       "      <th>comp7_rate</th>\n",
       "      <th>comp7_inv</th>\n",
       "      <th>comp7_rate_percent_diff</th>\n",
       "      <th>comp8_rate</th>\n",
       "      <th>comp8_inv</th>\n",
       "      <th>comp8_rate_percent_diff</th>\n",
       "      <th>click_bool</th>\n",
       "      <th>gross_bookings_usd</th>\n",
       "      <th>booking_bool</th>\n",
       "    </tr>\n",
       "  </thead>\n",
       "  <tbody>\n",
       "  </tbody>\n",
       "</table>\n",
       "<p>0 rows × 54 columns</p>\n",
       "</div>"
      ],
      "text/plain": [
       "Empty DataFrame\n",
       "Columns: [srch_id, date_time, site_id, visitor_location_country_id, visitor_hist_starrating, visitor_hist_adr_usd, prop_country_id, prop_id, prop_starrating, prop_review_score, prop_brand_bool, prop_location_score1, prop_location_score2, prop_log_historical_price, position, price_usd, promotion_flag, srch_destination_id, srch_length_of_stay, srch_booking_window, srch_adults_count, srch_children_count, srch_room_count, srch_saturday_night_bool, srch_query_affinity_score, orig_destination_distance, random_bool, comp1_rate, comp1_inv, comp1_rate_percent_diff, comp2_rate, comp2_inv, comp2_rate_percent_diff, comp3_rate, comp3_inv, comp3_rate_percent_diff, comp4_rate, comp4_inv, comp4_rate_percent_diff, comp5_rate, comp5_inv, comp5_rate_percent_diff, comp6_rate, comp6_inv, comp6_rate_percent_diff, comp7_rate, comp7_inv, comp7_rate_percent_diff, comp8_rate, comp8_inv, comp8_rate_percent_diff, click_bool, gross_bookings_usd, booking_bool]\n",
       "Index: []\n",
       "\n",
       "[0 rows x 54 columns]"
      ]
     },
     "execution_count": 226,
     "metadata": {},
     "output_type": "execute_result"
    }
   ],
   "source": [
    "df[df.srch_id==2]"
   ]
  },
  {
   "cell_type": "code",
   "execution_count": 174,
   "metadata": {
    "collapsed": false
   },
   "outputs": [
    {
     "name": "stdout",
     "output_type": "stream",
     "text": [
      "866\n"
     ]
    }
   ],
   "source": [
    "result = pd.read_csv('result1.csv')\n",
    "\n",
    "uniq_values = result.srch_id.unique()\n",
    "score = 0.0\n",
    "for u in uniq_values:\n",
    "    srch_section = result[result.srch_id == u]\n",
    "    \n",
    "    for i in range(len(srch_section)):\n",
    "        \n",
    "        if ((srch_section.iloc[i]['click_bool'] == 1)&(srch_section.iloc[i]['booking_bool'] == 0)):\n",
    "            score = score + 1/(np.log(i+2)/np.log(2))\n",
    "                               \n",
    "        if ((srch_section.iloc[i]['booking_bool'] == 1)):\n",
    "            score = score + 5/(np.log(i+2)/np.log(2))\n"
   ]
  },
  {
   "cell_type": "code",
   "execution_count": 227,
   "metadata": {
    "collapsed": false
   },
   "outputs": [
    {
     "ename": "SyntaxError",
     "evalue": "invalid syntax (<ipython-input-227-5a322e266a96>, line 10)",
     "output_type": "error",
     "traceback": [
      "\u001b[0;36m  File \u001b[0;32m\"<ipython-input-227-5a322e266a96>\"\u001b[0;36m, line \u001b[0;32m10\u001b[0m\n\u001b[0;31m    for j in range(book)\u001b[0m\n\u001b[0m                        ^\u001b[0m\n\u001b[0;31mSyntaxError\u001b[0m\u001b[0;31m:\u001b[0m invalid syntax\n"
     ]
    }
   ],
   "source": [
    "result = pd.read_csv('result1.csv')\n",
    "uniq_values = result.srch_id.unique()\n",
    "\n",
    "for u in uniq_values:\n",
    "    book = result[result.booking_bool == 1].srch_id.count()\n",
    "    click  = result[(result.click_bool == 1)].srch_id.count()\n",
    "    logsum1 = 0.0\n",
    "    for i in range(click):\n",
    "        logsum1= logsum1+1/(np.log(i+2)/np.log(2))\n",
    "    for j in range(book)\n",
    "        logsum1 = logsum1 - 1/(np.log(j+2)/np.log(2))\n"
   ]
  },
  {
   "cell_type": "code",
   "execution_count": 230,
   "metadata": {
    "collapsed": false,
    "scrolled": true
   },
   "outputs": [
    {
     "name": "stdout",
     "output_type": "stream",
     "text": [
      "0 0 0.0\n",
      "1 1 0.0\n",
      "2 2 3.15464876786\n",
      "3 3 3.15464876786\n",
      "4 4 3.15464876786\n",
      "5 5 3.15464876786\n",
      "6 6 3.51085595497\n",
      "7 7 3.51085595497\n",
      "8 8 3.82632083175\n",
      "9 9 3.82632083175\n",
      "10 10 3.82632083175\n",
      "11 11 3.82632083175\n",
      "12 12 3.82632083175\n",
      "13 13 3.82632083175\n",
      "14 14 3.82632083175\n",
      "15 15 3.82632083175\n",
      "16 16 3.82632083175\n",
      "17 17 3.82632083175\n",
      "18 18 3.82632083175\n",
      "19 19 3.82632083175\n",
      "20 20 3.82632083175\n",
      "21 21 3.82632083175\n",
      "22 22 3.82632083175\n",
      "23 23 3.82632083175\n",
      "24 24 3.82632083175\n",
      "25 25 3.82632083175\n",
      "26 26 3.82632083175\n",
      "27 27 3.82632083175\n",
      "28 28 3.82632083175\n",
      "29 29 3.82632083175\n",
      "30 0 3.82632083175\n",
      "31 1 3.82632083175\n",
      "32 2 4.45725058532\n",
      "33 3 4.45725058532\n",
      "34 4 4.8879271434\n",
      "35 5 6.82219117957\n",
      "36 6 6.82219117957\n",
      "37 7 6.82219117957\n",
      "38 8 6.82219117957\n",
      "39 9 6.82219117957\n",
      "40 10 6.82219117957\n",
      "41 11 6.82219117957\n",
      "42 12 6.82219117957\n",
      "43 13 6.82219117957\n",
      "44 14 7.07814920438\n",
      "45 15 7.07814920438\n",
      "46 16 7.07814920438\n",
      "47 17 7.07814920438\n",
      "48 18 7.07814920438\n",
      "49 19 7.07814920438\n",
      "50 20 7.07814920438\n",
      "51 21 7.07814920438\n",
      "52 22 7.07814920438\n",
      "53 23 7.07814920438\n",
      "54 24 7.07814920438\n",
      "55 25 7.07814920438\n",
      "56 26 7.07814920438\n",
      "57 27 7.07814920438\n",
      "58 28 7.07814920438\n",
      "59 29 7.07814920438\n",
      "60 30 8.08739463729\n",
      "61 31 8.08739463729\n",
      "62 0 8.08739463729\n",
      "63 1 8.08739463729\n",
      "64 2 8.08739463729\n",
      "65 3 8.08739463729\n",
      "66 4 8.51807119536\n",
      "67 0 8.51807119536\n",
      "68 1 9.51807119536\n",
      "69 2 9.51807119536\n",
      "70 3 9.51807119536\n",
      "71 4 9.51807119536\n",
      "72 5 9.51807119536\n",
      "73 6 9.51807119536\n",
      "74 7 9.51807119536\n",
      "75 8 9.51807119536\n",
      "76 9 9.51807119536\n",
      "77 10 9.51807119536\n",
      "78 11 9.51807119536\n",
      "79 12 9.51807119536\n",
      "80 13 9.51807119536\n",
      "81 14 9.51807119536\n",
      "82 15 10.7680711954\n",
      "83 16 10.7680711954\n",
      "84 17 10.7680711954\n",
      "85 18 10.7680711954\n",
      "86 19 10.9994494085\n",
      "87 20 10.9994494085\n",
      "88 0 10.9994494085\n",
      "89 1 10.9994494085\n",
      "90 2 10.9994494085\n",
      "91 3 10.9994494085\n",
      "92 4 10.9994494085\n",
      "93 5 10.9994494085\n",
      "94 6 10.9994494085\n",
      "95 7 10.9994494085\n",
      "96 8 10.9994494085\n",
      "97 9 10.9994494085\n",
      "98 10 10.9994494085\n",
      "99 11 10.9994494085\n"
     ]
    }
   ],
   "source": [
    "result = pd.read_csv('result1.csv')\n",
    "uniq_values = result.srch_id.unique()\n",
    "\n",
    "score=0.0\n",
    "j = 0 \n",
    "for i in range(100):\n",
    "    if (result.iloc[i-3]['srch_id'] < result.iloc[i-2]['srch_id']):\n",
    "        j = 0\n",
    "    else:\n",
    "        if  (result.iloc[i]['srch_id'] ==  result.iloc[i+1]['srch_id']): \n",
    "            if (result.iloc[i]['booking_bool'] == 1)&(j != 0):\n",
    "                score = score + 5/(np.log(j+1)/np.log(2))\n",
    "            if  (result.iloc[i]['booking_bool'] == 1)&(j == 0):\n",
    "                score = score + 5\n",
    "            if (result.iloc[i]['click_bool'] == 1)&(result.iloc[i]['booking_bool'] != 1)&(j != 0):\n",
    "                score = score + 1/(np.log(j+1)/np.log(2))\n",
    "            if (result.iloc[i]['click_bool'] == 1)&(result.iloc[i]['booking_bool'] != 1)&(j == 0):\n",
    "                score = score + 1         \n",
    "   \n",
    "    print(i,j,score)\n",
    "    j=j+1\n",
    "            \n",
    "    "
   ]
  },
  {
   "cell_type": "code",
   "execution_count": 125,
   "metadata": {
    "collapsed": false
   },
   "outputs": [
    {
     "name": "stderr",
     "output_type": "stream",
     "text": [
      "C:\\Users\\jiaya\\Anaconda3\\lib\\site-packages\\ipykernel\\__main__.py:6: RuntimeWarning: divide by zero encountered in double_scalars\n"
     ]
    }
   ],
   "source": [
    "result = pd.read_csv('result1.csv')\n",
    "srch_section = result[result.srch_id == 42]\n",
    "for i in range(len(srch_section)):\n",
    "    if i = 0 \n",
    "    if (srch_section.iloc[i]['click_bool'] == 1):\n",
    "        try: \n",
    "            score = score + 1/(np.log(i+1)/np.log(2))\n",
    "        except ZeroDivisionError:\n",
    "            print (\"divide by zero\") \n",
    "#print(score)"
   ]
  },
  {
   "cell_type": "markdown",
   "metadata": {},
   "source": [
    "# MODELING"
   ]
  },
  {
   "cell_type": "code",
   "execution_count": 3,
   "metadata": {
    "collapsed": false
   },
   "outputs": [
    {
     "name": "stderr",
     "output_type": "stream",
     "text": [
      "C:\\Users\\jiaya\\Anaconda3\\envs\\py2\\lib\\site-packages\\sklearn\\cross_validation.py:44: DeprecationWarning: This module was deprecated in version 0.18 in favor of the model_selection module into which all the refactored classes and functions are moved. Also note that the interface of the new CV iterators are different from that of this module. This module will be removed in 0.20.\n",
      "  \"This module will be removed in 0.20.\", DeprecationWarning)\n"
     ]
    },
    {
     "ename": "ImportError",
     "evalue": "No module named xgboost",
     "output_type": "error",
     "traceback": [
      "\u001b[0;31m---------------------------------------------------------------------------\u001b[0m",
      "\u001b[0;31mImportError\u001b[0m                               Traceback (most recent call last)",
      "\u001b[0;32m<ipython-input-3-b8343698ead2>\u001b[0m in \u001b[0;36m<module>\u001b[0;34m()\u001b[0m\n\u001b[1;32m     12\u001b[0m \u001b[1;32mfrom\u001b[0m \u001b[0msklearn\u001b[0m\u001b[1;33m.\u001b[0m\u001b[0mneighbors\u001b[0m \u001b[1;32mimport\u001b[0m \u001b[0mKNeighborsClassifier\u001b[0m\u001b[1;33m\u001b[0m\u001b[0m\n\u001b[1;32m     13\u001b[0m \u001b[1;32mfrom\u001b[0m \u001b[0mdatetime\u001b[0m \u001b[1;32mimport\u001b[0m \u001b[0mdatetime\u001b[0m\u001b[1;33m\u001b[0m\u001b[0m\n\u001b[0;32m---> 14\u001b[0;31m \u001b[1;32mimport\u001b[0m \u001b[0mxgboost\u001b[0m \u001b[1;32mas\u001b[0m \u001b[0mxgb\u001b[0m\u001b[1;33m\u001b[0m\u001b[0m\n\u001b[0m\u001b[1;32m     15\u001b[0m \u001b[1;32mimport\u001b[0m \u001b[0mml_metrics\u001b[0m \u001b[1;32mas\u001b[0m \u001b[0mmetrics\u001b[0m\u001b[1;33m\u001b[0m\u001b[0m\n\u001b[1;32m     16\u001b[0m \u001b[1;32mimport\u001b[0m \u001b[0mrandom\u001b[0m\u001b[1;33m\u001b[0m\u001b[0m\n",
      "\u001b[0;31mImportError\u001b[0m: No module named xgboost"
     ]
    }
   ],
   "source": [
    "\n",
    "from sklearn import svm\n",
    "from math import ceil\n",
    "from mpl_toolkits.mplot3d import Axes3D\n",
    "from sklearn.ensemble import RandomForestClassifier, BaggingClassifier\n",
    "from sklearn.discriminant_analysis import LinearDiscriminantAnalysis as LDA\n",
    "from sklearn.ensemble import RandomForestRegressor\n",
    "from sklearn.decomposition import PCA\n",
    "from sklearn import neighbors\n",
    "from sklearn import cross_validation\n",
    "from sklearn import preprocessing\n",
    "from sklearn.neighbors import KNeighborsClassifier\n",
    "from datetime import datetime\n",
    "import xgboost as xgb\n",
    "import ml_metrics as metrics\n",
    "import random\n",
    "%matplotlib inline"
   ]
  },
  {
   "cell_type": "code",
   "execution_count": 12,
   "metadata": {
    "collapsed": false
   },
   "outputs": [
    {
     "name": "stdout",
     "output_type": "stream",
     "text": [
      "['srch_id' 'date_time' 'site_id' 'visitor_location_country_id'\n",
      " 'prop_country_id' 'prop_id' 'prop_starrating' 'prop_brand_bool'\n",
      " 'prop_location_score1' 'prop_log_historical_price' 'position' 'price_usd'\n",
      " 'promotion_flag' 'srch_destination_id' 'srch_length_of_stay'\n",
      " 'srch_booking_window' 'srch_adults_count' 'srch_children_count'\n",
      " 'srch_room_count' 'srch_saturday_night_bool' 'random_bool' 'click_bool'\n",
      " 'booking_bool']\n"
     ]
    },
    {
     "data": {
      "text/html": [
       "<div>\n",
       "<table border=\"1\" class=\"dataframe\">\n",
       "  <thead>\n",
       "    <tr style=\"text-align: right;\">\n",
       "      <th></th>\n",
       "      <th>srch_id</th>\n",
       "      <th>date_time</th>\n",
       "      <th>site_id</th>\n",
       "      <th>visitor_location_country_id</th>\n",
       "      <th>prop_country_id</th>\n",
       "      <th>prop_id</th>\n",
       "      <th>prop_starrating</th>\n",
       "      <th>prop_brand_bool</th>\n",
       "      <th>prop_location_score1</th>\n",
       "      <th>prop_log_historical_price</th>\n",
       "      <th>...</th>\n",
       "      <th>srch_destination_id</th>\n",
       "      <th>srch_length_of_stay</th>\n",
       "      <th>srch_booking_window</th>\n",
       "      <th>srch_adults_count</th>\n",
       "      <th>srch_children_count</th>\n",
       "      <th>srch_room_count</th>\n",
       "      <th>srch_saturday_night_bool</th>\n",
       "      <th>random_bool</th>\n",
       "      <th>click_bool</th>\n",
       "      <th>booking_bool</th>\n",
       "    </tr>\n",
       "  </thead>\n",
       "  <tbody>\n",
       "    <tr>\n",
       "      <th>0</th>\n",
       "      <td>1</td>\n",
       "      <td>04/04/2013 08:32</td>\n",
       "      <td>12</td>\n",
       "      <td>187</td>\n",
       "      <td>219</td>\n",
       "      <td>893</td>\n",
       "      <td>3</td>\n",
       "      <td>1</td>\n",
       "      <td>2.83</td>\n",
       "      <td>4.95</td>\n",
       "      <td>...</td>\n",
       "      <td>23246</td>\n",
       "      <td>1</td>\n",
       "      <td>0</td>\n",
       "      <td>4</td>\n",
       "      <td>0</td>\n",
       "      <td>1</td>\n",
       "      <td>1</td>\n",
       "      <td>1</td>\n",
       "      <td>0</td>\n",
       "      <td>0</td>\n",
       "    </tr>\n",
       "    <tr>\n",
       "      <th>1</th>\n",
       "      <td>1</td>\n",
       "      <td>04/04/2013 08:32</td>\n",
       "      <td>12</td>\n",
       "      <td>187</td>\n",
       "      <td>219</td>\n",
       "      <td>10404</td>\n",
       "      <td>4</td>\n",
       "      <td>1</td>\n",
       "      <td>2.20</td>\n",
       "      <td>5.03</td>\n",
       "      <td>...</td>\n",
       "      <td>23246</td>\n",
       "      <td>1</td>\n",
       "      <td>0</td>\n",
       "      <td>4</td>\n",
       "      <td>0</td>\n",
       "      <td>1</td>\n",
       "      <td>1</td>\n",
       "      <td>1</td>\n",
       "      <td>0</td>\n",
       "      <td>0</td>\n",
       "    </tr>\n",
       "    <tr>\n",
       "      <th>2</th>\n",
       "      <td>1</td>\n",
       "      <td>04/04/2013 08:32</td>\n",
       "      <td>12</td>\n",
       "      <td>187</td>\n",
       "      <td>219</td>\n",
       "      <td>21315</td>\n",
       "      <td>3</td>\n",
       "      <td>1</td>\n",
       "      <td>2.20</td>\n",
       "      <td>4.92</td>\n",
       "      <td>...</td>\n",
       "      <td>23246</td>\n",
       "      <td>1</td>\n",
       "      <td>0</td>\n",
       "      <td>4</td>\n",
       "      <td>0</td>\n",
       "      <td>1</td>\n",
       "      <td>1</td>\n",
       "      <td>1</td>\n",
       "      <td>0</td>\n",
       "      <td>0</td>\n",
       "    </tr>\n",
       "    <tr>\n",
       "      <th>3</th>\n",
       "      <td>1</td>\n",
       "      <td>04/04/2013 08:32</td>\n",
       "      <td>12</td>\n",
       "      <td>187</td>\n",
       "      <td>219</td>\n",
       "      <td>27348</td>\n",
       "      <td>2</td>\n",
       "      <td>1</td>\n",
       "      <td>2.83</td>\n",
       "      <td>4.39</td>\n",
       "      <td>...</td>\n",
       "      <td>23246</td>\n",
       "      <td>1</td>\n",
       "      <td>0</td>\n",
       "      <td>4</td>\n",
       "      <td>0</td>\n",
       "      <td>1</td>\n",
       "      <td>1</td>\n",
       "      <td>1</td>\n",
       "      <td>0</td>\n",
       "      <td>0</td>\n",
       "    </tr>\n",
       "    <tr>\n",
       "      <th>4</th>\n",
       "      <td>1</td>\n",
       "      <td>04/04/2013 08:32</td>\n",
       "      <td>12</td>\n",
       "      <td>187</td>\n",
       "      <td>219</td>\n",
       "      <td>29604</td>\n",
       "      <td>4</td>\n",
       "      <td>1</td>\n",
       "      <td>2.64</td>\n",
       "      <td>4.93</td>\n",
       "      <td>...</td>\n",
       "      <td>23246</td>\n",
       "      <td>1</td>\n",
       "      <td>0</td>\n",
       "      <td>4</td>\n",
       "      <td>0</td>\n",
       "      <td>1</td>\n",
       "      <td>1</td>\n",
       "      <td>1</td>\n",
       "      <td>0</td>\n",
       "      <td>0</td>\n",
       "    </tr>\n",
       "  </tbody>\n",
       "</table>\n",
       "<p>5 rows × 23 columns</p>\n",
       "</div>"
      ],
      "text/plain": [
       "   srch_id         date_time  site_id  visitor_location_country_id  \\\n",
       "0        1  04/04/2013 08:32       12                          187   \n",
       "1        1  04/04/2013 08:32       12                          187   \n",
       "2        1  04/04/2013 08:32       12                          187   \n",
       "3        1  04/04/2013 08:32       12                          187   \n",
       "4        1  04/04/2013 08:32       12                          187   \n",
       "\n",
       "   prop_country_id  prop_id  prop_starrating  prop_brand_bool  \\\n",
       "0              219      893                3                1   \n",
       "1              219    10404                4                1   \n",
       "2              219    21315                3                1   \n",
       "3              219    27348                2                1   \n",
       "4              219    29604                4                1   \n",
       "\n",
       "   prop_location_score1  prop_log_historical_price      ...       \\\n",
       "0                  2.83                       4.95      ...        \n",
       "1                  2.20                       5.03      ...        \n",
       "2                  2.20                       4.92      ...        \n",
       "3                  2.83                       4.39      ...        \n",
       "4                  2.64                       4.93      ...        \n",
       "\n",
       "   srch_destination_id  srch_length_of_stay  srch_booking_window  \\\n",
       "0                23246                    1                    0   \n",
       "1                23246                    1                    0   \n",
       "2                23246                    1                    0   \n",
       "3                23246                    1                    0   \n",
       "4                23246                    1                    0   \n",
       "\n",
       "   srch_adults_count  srch_children_count  srch_room_count  \\\n",
       "0                  4                    0                1   \n",
       "1                  4                    0                1   \n",
       "2                  4                    0                1   \n",
       "3                  4                    0                1   \n",
       "4                  4                    0                1   \n",
       "\n",
       "   srch_saturday_night_bool  random_bool  click_bool  booking_bool  \n",
       "0                         1            1           0             0  \n",
       "1                         1            1           0             0  \n",
       "2                         1            1           0             0  \n",
       "3                         1            1           0             0  \n",
       "4                         1            1           0             0  \n",
       "\n",
       "[5 rows x 23 columns]"
      ]
     },
     "execution_count": 12,
     "metadata": {},
     "output_type": "execute_result"
    }
   ],
   "source": [
    "train_basic = train_s.dropna(axis = 1)\n",
    "print(train_basic.columns.values)\n",
    "train_basic.head(5)"
   ]
  },
  {
   "cell_type": "code",
   "execution_count": 13,
   "metadata": {
    "collapsed": false
   },
   "outputs": [
    {
     "name": "stderr",
     "output_type": "stream",
     "text": [
      "C:\\Users\\jiaya\\Anaconda3\\envs\\py2\\lib\\site-packages\\ipykernel\\__main__.py:1: SettingWithCopyWarning: \n",
      "A value is trying to be set on a copy of a slice from a DataFrame\n",
      "\n",
      "See the caveats in the documentation: http://pandas.pydata.org/pandas-docs/stable/indexing.html#indexing-view-versus-copy\n",
      "  if __name__ == '__main__':\n"
     ]
    }
   ],
   "source": [
    "train_basic.drop([\"click_bool\",\"booking_bool\",\"date_time\",\"site_id\"], axis=1, inplace = True)\n",
    "X_train = train_basic.values\n",
    "Y_train = np.ravel(train_s[\"booking_bool\"].values)\n",
    "\n",
    "##X_test  = test_basic.drop(\"srch_id\", axis=1).copy()\n"
   ]
  },
  {
   "cell_type": "code",
   "execution_count": 25,
   "metadata": {
    "collapsed": false
   },
   "outputs": [],
   "source": [
    "clf0 = RandomForestClassifier(n_estimators=50, random_state=4321)\n",
    "clf0.fit(X_train, Y_train)\n",
    "prediction0_on_train = clf0.predict_proba(X_train)\n",
    "\n",
    "prediction0_on_train = pd.DataFrame().append(train_s[['srch_id', 'prop_id','click_bool','booking_bool']],\n",
    "                                                 ignore_index=True).join(pd.DataFrame(prediction0_on_train[:,1],\n",
    "                                                                                      columns=['prediction']))\n",
    "prediction0_on_train.sort_values(by=['srch_id', 'prediction'], inplace=True, ascending=[True,False])\n"
   ]
  },
  {
   "cell_type": "code",
   "execution_count": 39,
   "metadata": {
    "collapsed": false
   },
   "outputs": [
    {
     "ename": "AttributeError",
     "evalue": "'DataFrame' object has no attribute 'row'",
     "output_type": "error",
     "traceback": [
      "\u001b[0;31m---------------------------------------------------------------------------\u001b[0m",
      "\u001b[0;31mAttributeError\u001b[0m                            Traceback (most recent call last)",
      "\u001b[0;32m<ipython-input-39-d9dbe4688794>\u001b[0m in \u001b[0;36m<module>\u001b[0;34m()\u001b[0m\n\u001b[1;32m      1\u001b[0m \u001b[1;32mfrom\u001b[0m \u001b[0msklearn\u001b[0m\u001b[1;33m.\u001b[0m\u001b[0mcross_validation\u001b[0m \u001b[1;32mimport\u001b[0m \u001b[0mKFold\u001b[0m\u001b[1;33m\u001b[0m\u001b[0m\n\u001b[1;32m      2\u001b[0m \u001b[1;33m\u001b[0m\u001b[0m\n\u001b[0;32m----> 3\u001b[0;31m \u001b[0mkf\u001b[0m \u001b[1;33m=\u001b[0m \u001b[0mKFold\u001b[0m\u001b[1;33m(\u001b[0m\u001b[0mlen\u001b[0m\u001b[1;33m(\u001b[0m\u001b[0mtrain_s\u001b[0m\u001b[1;33m.\u001b[0m\u001b[0mrow\u001b[0m\u001b[1;33m)\u001b[0m\u001b[1;33m,\u001b[0m \u001b[0mn_folds\u001b[0m\u001b[1;33m=\u001b[0m\u001b[1;36m3\u001b[0m\u001b[1;33m,\u001b[0m \u001b[0mshuffle\u001b[0m \u001b[1;33m=\u001b[0m \u001b[0mTrue\u001b[0m\u001b[1;33m)\u001b[0m\u001b[1;33m\u001b[0m\u001b[0m\n\u001b[0m\u001b[1;32m      4\u001b[0m \u001b[1;32mfor\u001b[0m \u001b[0mtrain\u001b[0m\u001b[1;33m,\u001b[0m \u001b[0mtest\u001b[0m \u001b[1;32min\u001b[0m \u001b[0mkf\u001b[0m\u001b[1;33m:\u001b[0m\u001b[1;33m\u001b[0m\u001b[0m\n\u001b[1;32m      5\u001b[0m     \u001b[1;32mprint\u001b[0m\u001b[1;33m(\u001b[0m\u001b[1;34m\"%s %s\"\u001b[0m \u001b[1;33m%\u001b[0m \u001b[1;33m(\u001b[0m\u001b[0mtrain\u001b[0m\u001b[1;33m,\u001b[0m \u001b[0mtest\u001b[0m\u001b[1;33m)\u001b[0m\u001b[1;33m)\u001b[0m\u001b[1;33m\u001b[0m\u001b[0m\n",
      "\u001b[0;32mC:\\Users\\jiaya\\Anaconda3\\envs\\py2\\lib\\site-packages\\pandas\\core\\generic.pyc\u001b[0m in \u001b[0;36m__getattr__\u001b[0;34m(self, name)\u001b[0m\n\u001b[1;32m   2742\u001b[0m             \u001b[1;32mif\u001b[0m \u001b[0mname\u001b[0m \u001b[1;32min\u001b[0m \u001b[0mself\u001b[0m\u001b[1;33m.\u001b[0m\u001b[0m_info_axis\u001b[0m\u001b[1;33m:\u001b[0m\u001b[1;33m\u001b[0m\u001b[0m\n\u001b[1;32m   2743\u001b[0m                 \u001b[1;32mreturn\u001b[0m \u001b[0mself\u001b[0m\u001b[1;33m[\u001b[0m\u001b[0mname\u001b[0m\u001b[1;33m]\u001b[0m\u001b[1;33m\u001b[0m\u001b[0m\n\u001b[0;32m-> 2744\u001b[0;31m             \u001b[1;32mreturn\u001b[0m \u001b[0mobject\u001b[0m\u001b[1;33m.\u001b[0m\u001b[0m__getattribute__\u001b[0m\u001b[1;33m(\u001b[0m\u001b[0mself\u001b[0m\u001b[1;33m,\u001b[0m \u001b[0mname\u001b[0m\u001b[1;33m)\u001b[0m\u001b[1;33m\u001b[0m\u001b[0m\n\u001b[0m\u001b[1;32m   2745\u001b[0m \u001b[1;33m\u001b[0m\u001b[0m\n\u001b[1;32m   2746\u001b[0m     \u001b[1;32mdef\u001b[0m \u001b[0m__setattr__\u001b[0m\u001b[1;33m(\u001b[0m\u001b[0mself\u001b[0m\u001b[1;33m,\u001b[0m \u001b[0mname\u001b[0m\u001b[1;33m,\u001b[0m \u001b[0mvalue\u001b[0m\u001b[1;33m)\u001b[0m\u001b[1;33m:\u001b[0m\u001b[1;33m\u001b[0m\u001b[0m\n",
      "\u001b[0;31mAttributeError\u001b[0m: 'DataFrame' object has no attribute 'row'"
     ]
    }
   ],
   "source": [
    "from sklearn.cross_validation import KFold\n",
    "\n",
    "kf = KFold(len(train_s.row), n_folds=3, shuffle = True)\n",
    "for train, test in kf:\n",
    "    print(\"%s %s\" % (train, test))"
   ]
  },
  {
   "cell_type": "code",
   "execution_count": 29,
   "metadata": {
    "collapsed": false
   },
   "outputs": [
    {
     "name": "stdout",
     "output_type": "stream",
     "text": [
      "[-0.15014488 -0.22876737 -0.90734857]\n"
     ]
    }
   ],
   "source": [
    "print scores"
   ]
  },
  {
   "cell_type": "code",
   "execution_count": 26,
   "metadata": {
    "collapsed": true
   },
   "outputs": [],
   "source": [
    "prediction0_on_train.to_csv('result0.csv', index=False)"
   ]
  },
  {
   "cell_type": "code",
   "execution_count": 27,
   "metadata": {
    "collapsed": false
   },
   "outputs": [
    {
     "name": "stdout",
     "output_type": "stream",
     "text": [
      "('Average nDCG: ', 0.8065)\n"
     ]
    }
   ],
   "source": [
    "def nDCG ()\n",
    "\n",
    "uniq_values = result.srch_id.unique()\n",
    "nDCG = np.zeros(len(uniq_values))\n",
    "tick = 0\n",
    "\n",
    "for u in uniq_values:\n",
    "    score = 0\n",
    "    srch_section = result[result.srch_id == u]\n",
    "\n",
    "# Count the DCG\n",
    "    for k in range(len(srch_section)):      \n",
    "        if ((srch_section.iloc[k]['click_bool'] == 1) & (srch_section.iloc[k]['booking_bool'] == 0)):\n",
    "            score = score + 1 / (np.log(k+2)/np.log(2))                               \n",
    "        if ((srch_section.iloc[k]['booking_bool'] == 1)):\n",
    "            score = score + 31 / (np.log(k+2)/np.log(2))\n",
    "\n",
    "# Determine the maximum score     \n",
    "    fives = srch_section[srch_section.booking_bool == 1].srch_id.count()\n",
    "    ones  = srch_section[(srch_section.click_bool == 1) & (srch_section.booking_bool == 0)].srch_id.count()\n",
    "    maxim = 0\n",
    "    for i in range(fives):\n",
    "        maxim = maxim + 31 / (np.log(i+2)/np.log(2))\n",
    "\n",
    "    for i in range(ones):\n",
    "        maxim = maxim + 1 / (np.log(fives+i+2)/np.log(2))\n",
    "    \n",
    "    if maxim != 0:\n",
    "        nDCG[tick] = score/maxim\n",
    "    tick = tick+1\n",
    "\n",
    "print('Average nDCG: ',round(sum(nDCG)/np.count_nonzero(nDCG),4))"
   ]
  },
  {
   "cell_type": "code",
   "execution_count": 25,
   "metadata": {
    "collapsed": false
   },
   "outputs": [
    {
     "name": "stdout",
     "output_type": "stream",
     "text": [
      "[[  1.00000000e+00   1.87000000e+02   2.19000000e+02 ...,   0.00000000e+00\n",
      "    1.00000000e+00   1.00000000e+00]\n",
      " [  1.00000000e+00   1.87000000e+02   2.19000000e+02 ...,   0.00000000e+00\n",
      "    1.00000000e+00   1.00000000e+00]\n",
      " [  1.00000000e+00   1.87000000e+02   2.19000000e+02 ...,   0.00000000e+00\n",
      "    1.00000000e+00   1.00000000e+00]\n",
      " ..., \n",
      " [  3.31400000e+03   2.19000000e+02   1.80000000e+01 ...,   0.00000000e+00\n",
      "    1.00000000e+00   1.00000000e+00]\n",
      " [  3.31400000e+03   2.19000000e+02   1.80000000e+01 ...,   0.00000000e+00\n",
      "    1.00000000e+00   1.00000000e+00]\n",
      " [  3.31400000e+03   2.19000000e+02   1.80000000e+01 ...,   0.00000000e+00\n",
      "    1.00000000e+00   1.00000000e+00]]\n"
     ]
    }
   ],
   "source": [
    "feature_names = list(X_train.columns)\n",
    "features = train_basic[feature_names].values\n",
    "print(features)"
   ]
  },
  {
   "cell_type": "code",
   "execution_count": 23,
   "metadata": {
    "collapsed": false
   },
   "outputs": [
    {
     "ename": "IndexError",
     "evalue": "too many indices for array",
     "output_type": "error",
     "traceback": [
      "\u001b[0;31m---------------------------------------------------------------------------\u001b[0m",
      "\u001b[0;31mIndexError\u001b[0m                                Traceback (most recent call last)",
      "\u001b[0;32m<ipython-input-23-6dd050ff4e64>\u001b[0m in \u001b[0;36m<module>\u001b[0;34m()\u001b[0m\n\u001b[1;32m      1\u001b[0m \u001b[0mle\u001b[0m \u001b[1;33m=\u001b[0m \u001b[0mpreprocessing\u001b[0m\u001b[1;33m.\u001b[0m\u001b[0mLabelEncoder\u001b[0m\u001b[1;33m(\u001b[0m\u001b[1;33m)\u001b[0m\u001b[1;33m\u001b[0m\u001b[0m\n\u001b[1;32m      2\u001b[0m \u001b[1;32mfor\u001b[0m \u001b[0mi\u001b[0m \u001b[1;32min\u001b[0m \u001b[0mrange\u001b[0m\u001b[1;33m(\u001b[0m\u001b[1;36m18\u001b[0m\u001b[1;33m)\u001b[0m\u001b[1;33m:\u001b[0m\u001b[1;33m\u001b[0m\u001b[0m\n\u001b[0;32m----> 3\u001b[0;31m     \u001b[0mfeatures\u001b[0m\u001b[1;33m[\u001b[0m\u001b[1;33m:\u001b[0m\u001b[1;33m,\u001b[0m\u001b[0mi\u001b[0m\u001b[1;33m]\u001b[0m \u001b[1;33m=\u001b[0m \u001b[0mle\u001b[0m\u001b[1;33m.\u001b[0m\u001b[0mfit_transform\u001b[0m\u001b[1;33m(\u001b[0m\u001b[0mfeatures\u001b[0m\u001b[1;33m[\u001b[0m\u001b[1;33m:\u001b[0m\u001b[1;33m,\u001b[0m\u001b[0mi\u001b[0m\u001b[1;33m]\u001b[0m\u001b[1;33m)\u001b[0m\u001b[1;33m\u001b[0m\u001b[0m\n\u001b[0m",
      "\u001b[0;31mIndexError\u001b[0m: too many indices for array"
     ]
    }
   ],
   "source": [
    "le = preprocessing.LabelEncoder()\n",
    "for i in range(18):\n",
    "    features[:,i] = le.fit_transform(features[:,i])"
   ]
  },
  {
   "cell_type": "code",
   "execution_count": 29,
   "metadata": {
    "collapsed": false
   },
   "outputs": [
    {
     "name": "stdout",
     "output_type": "stream",
     "text": [
      "building tree 1 of 20\n",
      "building tree 2 of 20\n"
     ]
    },
    {
     "name": "stderr",
     "output_type": "stream",
     "text": [
      "[Parallel(n_jobs=1)]: Done   1 out of   1 | elapsed:    0.1s remaining:    0.0s\n"
     ]
    },
    {
     "name": "stdout",
     "output_type": "stream",
     "text": [
      "building tree 3 of 20\n",
      "building tree 4 of 20\n",
      "building tree 5 of 20\n",
      "building tree 6 of 20\n",
      "building tree 7 of 20\n",
      "building tree 8 of 20\n",
      "building tree 9 of 20\n",
      "building tree 10 of 20\n",
      "building tree 11 of 20\n",
      "building tree 12 of 20\n",
      "building tree 13 of 20\n",
      "building tree 14 of 20\n",
      "building tree 15 of 20\n",
      "building tree 16 of 20\n",
      "building tree 17 of 20\n",
      "building tree 18 of 20\n",
      "building tree 19 of 20\n",
      "building tree 20 of 20\n"
     ]
    },
    {
     "name": "stderr",
     "output_type": "stream",
     "text": [
      "[Parallel(n_jobs=1)]: Done  20 out of  20 | elapsed:    2.5s finished\n"
     ]
    },
    {
     "data": {
      "text/plain": [
       "RandomForestClassifier(bootstrap=True, class_weight=None, criterion='gini',\n",
       "            max_depth=None, max_features='auto', max_leaf_nodes=None,\n",
       "            min_impurity_split=1e-07, min_samples_leaf=1,\n",
       "            min_samples_split=5, min_weight_fraction_leaf=0.0,\n",
       "            n_estimators=20, n_jobs=1, oob_score=False, random_state=1,\n",
       "            verbose=2, warm_start=False)"
      ]
     },
     "execution_count": 29,
     "metadata": {},
     "output_type": "execute_result"
    }
   ],
   "source": [
    "classifier = RandomForestClassifier(n_estimators=20, \n",
    "                                        verbose=2,\n",
    "                                        n_jobs=1,\n",
    "                                        min_samples_split=5,\n",
    "                                        random_state=1)\n",
    "classifier.fit(features, target)\n"
   ]
  },
  {
   "cell_type": "code",
   "execution_count": 32,
   "metadata": {
    "collapsed": false
   },
   "outputs": [
    {
     "name": "stderr",
     "output_type": "stream",
     "text": [
      "[Parallel(n_jobs=1)]: Done   1 out of   1 | elapsed:    0.0s remaining:    0.0s\n"
     ]
    },
    {
     "name": "stdout",
     "output_type": "stream",
     "text": [
      "97.25\n"
     ]
    },
    {
     "name": "stderr",
     "output_type": "stream",
     "text": [
      "[Parallel(n_jobs=1)]: Done  20 out of  20 | elapsed:    0.2s finished\n"
     ]
    }
   ],
   "source": [
    "acc_random_forest = round(classifier.score(features, target)* 100, 2)\n",
    "print (acc_random_forest)"
   ]
  },
  {
   "cell_type": "code",
   "execution_count": 42,
   "metadata": {
    "collapsed": false
   },
   "outputs": [
    {
     "name": "stdout",
     "output_type": "stream",
     "text": [
      "('Average nDCG: ', 0.8065)\n"
     ]
    }
   ],
   "source": [
    "clf0 = RandomForestClassifier(n_estimators=50, random_state=4321)\n",
    "clf0.fit(X_train, Y_train)\n",
    "prediction0_on_train = clf0.predict_proba(X_train)\n",
    "\n",
    "prediction0_on_train = pd.DataFrame().append(train_s[['srch_id', 'prop_id','click_bool','booking_bool']],\n",
    "                                                 ignore_index=True).join(pd.DataFrame(prediction0_on_train[:,1],\n",
    "                                                                                      columns=['prediction']))\n",
    "prediction0_on_train.sort_values(by=['srch_id', 'prediction'], inplace=True, ascending=[True,False])\n",
    "\n",
    "uniq_values = prediction0_on_train.srch_id.unique()\n",
    "nDCG = np.zeros(len(uniq_values))\n",
    "tick = 0\n",
    "\n",
    "for u in uniq_values:\n",
    "    score = 0\n",
    "    srch_section = prediction0_on_train[prediction0_on_train.srch_id == u]\n",
    "\n",
    "# Count the DCG\n",
    "    for k in range(len(srch_section)):      \n",
    "        if ((srch_section.iloc[k]['click_bool'] == 1) & (srch_section.iloc[k]['booking_bool'] == 0)):\n",
    "            score = score + 1 / (np.log(k+2)/np.log(2))                               \n",
    "        if ((srch_section.iloc[k]['booking_bool'] == 1)):\n",
    "            score = score + 31 / (np.log(k+2)/np.log(2))\n",
    "\n",
    "# Determine the maximum score     \n",
    "    fives = srch_section[srch_section.booking_bool == 1].srch_id.count()\n",
    "    ones  = srch_section[(srch_section.click_bool == 1) & (srch_section.booking_bool == 0)].srch_id.count()\n",
    "    maxim = 0\n",
    "    for i in range(fives):\n",
    "        maxim = maxim + 31 / (np.log(i+2)/np.log(2))\n",
    "\n",
    "    for i in range(ones):\n",
    "        maxim = maxim + 1 / (np.log(fives+i+2)/np.log(2))\n",
    "    \n",
    "    if maxim != 0:\n",
    "        nDCG[tick] = score/maxim\n",
    "    tick = tick+1\n",
    "\n",
    "print('Average nDCG: ',round(sum(nDCG)/np.count_nonzero(nDCG),4))"
   ]
  }
 ],
 "metadata": {
  "kernelspec": {
   "display_name": "Python 2",
   "language": "python",
   "name": "python2"
  },
  "language_info": {
   "codemirror_mode": {
    "name": "ipython",
    "version": 2
   },
   "file_extension": ".py",
   "mimetype": "text/x-python",
   "name": "python",
   "nbconvert_exporter": "python",
   "pygments_lexer": "ipython2",
   "version": "2.7.13"
  }
 },
 "nbformat": 4,
 "nbformat_minor": 2
}
